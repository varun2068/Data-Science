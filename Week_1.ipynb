{
  "nbformat": 4,
  "nbformat_minor": 0,
  "metadata": {
    "colab": {
      "name": "Week 1.ipynb",
      "provenance": [],
      "collapsed_sections": [],
      "authorship_tag": "ABX9TyPJPheGWQHqV/qRuk3uMkBf",
      "include_colab_link": true
    },
    "kernelspec": {
      "name": "python3",
      "display_name": "Python 3"
    }
  },
  "cells": [
    {
      "cell_type": "markdown",
      "metadata": {
        "id": "view-in-github",
        "colab_type": "text"
      },
      "source": [
        "<a href=\"https://colab.research.google.com/github/varun2068/Data-Science/blob/main/Week_1.ipynb\" target=\"_parent\"><img src=\"https://colab.research.google.com/assets/colab-badge.svg\" alt=\"Open In Colab\"/></a>"
      ]
    },
    {
      "cell_type": "markdown",
      "metadata": {
        "id": "PEHE2XgLZPWN"
      },
      "source": [
        "#**The Python Programming Language: Functions**\r\n",
        "\r\n"
      ]
    },
    {
      "cell_type": "code",
      "metadata": {
        "colab": {
          "base_uri": "https://localhost:8080/"
        },
        "id": "WWLXSIKZVv67",
        "outputId": "ed9b9c36-8702-4005-d291-776334c7a1cc"
      },
      "source": [
        "x = 1\r\n",
        "y = 2\r\n",
        "x+y"
      ],
      "execution_count": null,
      "outputs": [
        {
          "output_type": "execute_result",
          "data": {
            "text/plain": [
              "3"
            ]
          },
          "metadata": {
            "tags": []
          },
          "execution_count": 1
        }
      ]
    },
    {
      "cell_type": "code",
      "metadata": {
        "colab": {
          "base_uri": "https://localhost:8080/"
        },
        "id": "Eh_ZpzcEZkej",
        "outputId": "18bb89be-efd5-4ec0-cc80-c27218db3e80"
      },
      "source": [
        "x"
      ],
      "execution_count": null,
      "outputs": [
        {
          "output_type": "execute_result",
          "data": {
            "text/plain": [
              "1"
            ]
          },
          "metadata": {
            "tags": []
          },
          "execution_count": 2
        }
      ]
    },
    {
      "cell_type": "code",
      "metadata": {
        "colab": {
          "base_uri": "https://localhost:8080/"
        },
        "id": "L130DbKnZoRR",
        "outputId": "74f41be0-04a5-4a3d-ec26-d69a54a18790"
      },
      "source": [
        "def add_numbers(x, y):\r\n",
        "  return x+y\r\n",
        "add_numbers(2, 3) "
      ],
      "execution_count": null,
      "outputs": [
        {
          "output_type": "execute_result",
          "data": {
            "text/plain": [
              "5"
            ]
          },
          "metadata": {
            "tags": []
          },
          "execution_count": 3
        }
      ]
    },
    {
      "cell_type": "code",
      "metadata": {
        "colab": {
          "base_uri": "https://localhost:8080/"
        },
        "id": "VLNkU6XaZ4By",
        "outputId": "afcab5dd-397d-40cc-c32e-398fbf3c694c"
      },
      "source": [
        "def add_numbers(x, y, z=None):\r\n",
        "  if(z == None):\r\n",
        "    return x+y\r\n",
        "  else:\r\n",
        "    return x+y+z\r\n",
        "\r\n",
        "print(add_numbers(1, 2))\r\n",
        "print(add_numbers(1, 2, 3))\r\n"
      ],
      "execution_count": null,
      "outputs": [
        {
          "output_type": "stream",
          "text": [
            "3\n",
            "6\n"
          ],
          "name": "stdout"
        }
      ]
    },
    {
      "cell_type": "code",
      "metadata": {
        "colab": {
          "base_uri": "https://localhost:8080/"
        },
        "id": "HtGtkS-capgp",
        "outputId": "8a8be9f4-c404-4744-9df7-ea5774ab7024"
      },
      "source": [
        "def add_numbers(x, y):\r\n",
        "  return x+y\r\n",
        "\r\n",
        "a = add_numbers\r\n",
        "a(1, 4)"
      ],
      "execution_count": null,
      "outputs": [
        {
          "output_type": "execute_result",
          "data": {
            "text/plain": [
              "5"
            ]
          },
          "metadata": {
            "tags": []
          },
          "execution_count": 5
        }
      ]
    },
    {
      "cell_type": "markdown",
      "metadata": {
        "id": "rN0vhCfla3QJ"
      },
      "source": [
        "#**The Python programming Language: Types and Sequence**"
      ]
    },
    {
      "cell_type": "code",
      "metadata": {
        "colab": {
          "base_uri": "https://localhost:8080/"
        },
        "id": "HJPPEEsMbBfF",
        "outputId": "9c2cba45-cc14-4403-f454-daf53cb00be4"
      },
      "source": [
        "type(\"this is a string\")"
      ],
      "execution_count": null,
      "outputs": [
        {
          "output_type": "execute_result",
          "data": {
            "text/plain": [
              "str"
            ]
          },
          "metadata": {
            "tags": []
          },
          "execution_count": 6
        }
      ]
    },
    {
      "cell_type": "code",
      "metadata": {
        "colab": {
          "base_uri": "https://localhost:8080/"
        },
        "id": "SfeDSIT4bEi8",
        "outputId": "50f389ff-68fd-4d6a-d27e-673dece4159c"
      },
      "source": [
        "type(None)"
      ],
      "execution_count": null,
      "outputs": [
        {
          "output_type": "execute_result",
          "data": {
            "text/plain": [
              "NoneType"
            ]
          },
          "metadata": {
            "tags": []
          },
          "execution_count": 7
        }
      ]
    },
    {
      "cell_type": "code",
      "metadata": {
        "colab": {
          "base_uri": "https://localhost:8080/"
        },
        "id": "kFWDUFNUbGSS",
        "outputId": "0ebdd058-7c61-4f34-dd7c-aade0617bbc6"
      },
      "source": [
        "type(1)"
      ],
      "execution_count": null,
      "outputs": [
        {
          "output_type": "execute_result",
          "data": {
            "text/plain": [
              "int"
            ]
          },
          "metadata": {
            "tags": []
          },
          "execution_count": 8
        }
      ]
    },
    {
      "cell_type": "code",
      "metadata": {
        "colab": {
          "base_uri": "https://localhost:8080/"
        },
        "id": "47bia0AqbJfg",
        "outputId": "7065273e-3350-4fcd-9891-6516de1aa6e6"
      },
      "source": [
        "type(1.1)"
      ],
      "execution_count": null,
      "outputs": [
        {
          "output_type": "execute_result",
          "data": {
            "text/plain": [
              "float"
            ]
          },
          "metadata": {
            "tags": []
          },
          "execution_count": 9
        }
      ]
    },
    {
      "cell_type": "code",
      "metadata": {
        "colab": {
          "base_uri": "https://localhost:8080/"
        },
        "id": "hRMIsYXTbLAR",
        "outputId": "10921fcc-164a-44d1-9214-0a69081f2f59"
      },
      "source": [
        "type(add_numbers)"
      ],
      "execution_count": null,
      "outputs": [
        {
          "output_type": "execute_result",
          "data": {
            "text/plain": [
              "function"
            ]
          },
          "metadata": {
            "tags": []
          },
          "execution_count": 10
        }
      ]
    },
    {
      "cell_type": "code",
      "metadata": {
        "colab": {
          "base_uri": "https://localhost:8080/"
        },
        "id": "aiBQXtvUbODx",
        "outputId": "7eb4d05f-6fe0-464b-8492-7e7bd2f80f28"
      },
      "source": [
        "x = (1, 'a', 2, 'b')\r\n",
        "type(x)"
      ],
      "execution_count": null,
      "outputs": [
        {
          "output_type": "execute_result",
          "data": {
            "text/plain": [
              "tuple"
            ]
          },
          "metadata": {
            "tags": []
          },
          "execution_count": 12
        }
      ]
    },
    {
      "cell_type": "code",
      "metadata": {
        "colab": {
          "base_uri": "https://localhost:8080/"
        },
        "id": "wc2prSZZbUdg",
        "outputId": "566d47a2-fc94-48b4-cbec-e7e024929137"
      },
      "source": [
        "x = [1, 'a', 'b', 2]\r\n",
        "type(x)"
      ],
      "execution_count": null,
      "outputs": [
        {
          "output_type": "execute_result",
          "data": {
            "text/plain": [
              "list"
            ]
          },
          "metadata": {
            "tags": []
          },
          "execution_count": 17
        }
      ]
    },
    {
      "cell_type": "code",
      "metadata": {
        "colab": {
          "base_uri": "https://localhost:8080/"
        },
        "id": "DG1dKg-ybZKD",
        "outputId": "4090f7cd-fc02-4ac9-8204-3006b63ba925"
      },
      "source": [
        "x.append(3)\r\n",
        "print(x)"
      ],
      "execution_count": null,
      "outputs": [
        {
          "output_type": "stream",
          "text": [
            "[1, 'a', 'b', 2, 3]\n"
          ],
          "name": "stdout"
        }
      ]
    },
    {
      "cell_type": "code",
      "metadata": {
        "colab": {
          "base_uri": "https://localhost:8080/"
        },
        "id": "oe6ofpqDbhEI",
        "outputId": "13fd3911-6a9c-483d-945e-d030e9c73576"
      },
      "source": [
        "for item in x:\r\n",
        "  print(item)\r\n"
      ],
      "execution_count": null,
      "outputs": [
        {
          "output_type": "stream",
          "text": [
            "1\n",
            "a\n",
            "b\n",
            "2\n",
            "3\n"
          ],
          "name": "stdout"
        }
      ]
    },
    {
      "cell_type": "code",
      "metadata": {
        "colab": {
          "base_uri": "https://localhost:8080/"
        },
        "id": "N3_az243bn69",
        "outputId": "33099e92-b166-4488-ae73-f555f2ea9c2e"
      },
      "source": [
        "i = 0\r\n",
        "while(i != len(x)):\r\n",
        "  print(x[i])\r\n",
        "  i+=1"
      ],
      "execution_count": null,
      "outputs": [
        {
          "output_type": "stream",
          "text": [
            "1\n",
            "a\n",
            "b\n",
            "2\n",
            "3\n"
          ],
          "name": "stdout"
        }
      ]
    },
    {
      "cell_type": "code",
      "metadata": {
        "colab": {
          "base_uri": "https://localhost:8080/"
        },
        "id": "dnSOWTWbbwxZ",
        "outputId": "634adbf5-2709-4b81-ff63-d7d376d33269"
      },
      "source": [
        "[1, 2] + [3, 4]"
      ],
      "execution_count": null,
      "outputs": [
        {
          "output_type": "execute_result",
          "data": {
            "text/plain": [
              "[1, 2, 3, 4]"
            ]
          },
          "metadata": {
            "tags": []
          },
          "execution_count": 21
        }
      ]
    },
    {
      "cell_type": "code",
      "metadata": {
        "colab": {
          "base_uri": "https://localhost:8080/"
        },
        "id": "4S0OGGmDb3BY",
        "outputId": "6c4e749c-747c-4cd0-ed3d-c4fbaebf489d"
      },
      "source": [
        "[1] * 3\r\n"
      ],
      "execution_count": null,
      "outputs": [
        {
          "output_type": "execute_result",
          "data": {
            "text/plain": [
              "[1, 1, 1]"
            ]
          },
          "metadata": {
            "tags": []
          },
          "execution_count": 23
        }
      ]
    },
    {
      "cell_type": "code",
      "metadata": {
        "colab": {
          "base_uri": "https://localhost:8080/"
        },
        "id": "TRU9jJwXb72b",
        "outputId": "312ae65c-fa3a-4890-ff1d-c1873bbc463f"
      },
      "source": [
        "1 in [1, 2, 4]"
      ],
      "execution_count": null,
      "outputs": [
        {
          "output_type": "execute_result",
          "data": {
            "text/plain": [
              "True"
            ]
          },
          "metadata": {
            "tags": []
          },
          "execution_count": 24
        }
      ]
    },
    {
      "cell_type": "code",
      "metadata": {
        "id": "yOl5aqUpcA3I"
      },
      "source": [
        ""
      ],
      "execution_count": null,
      "outputs": []
    },
    {
      "cell_type": "code",
      "metadata": {
        "colab": {
          "base_uri": "https://localhost:8080/"
        },
        "id": "mA6AAbjjcBCR",
        "outputId": "68d054de-7cc0-4b59-c604-3b3571169814"
      },
      "source": [
        "x = 'this is a string'\r\n",
        "print(x[0])\r\n",
        "print(x[0:1])\r\n",
        "print(x[0:2])\r\n"
      ],
      "execution_count": null,
      "outputs": [
        {
          "output_type": "stream",
          "text": [
            "t\n",
            "t\n",
            "th\n"
          ],
          "name": "stdout"
        }
      ]
    },
    {
      "cell_type": "code",
      "metadata": {
        "colab": {
          "base_uri": "https://localhost:8080/",
          "height": 35
        },
        "id": "QPrQmWnWcPJp",
        "outputId": "54e6cd2a-832e-45eb-f950-4aa6ba28e3c6"
      },
      "source": [
        "x[-1]"
      ],
      "execution_count": null,
      "outputs": [
        {
          "output_type": "execute_result",
          "data": {
            "application/vnd.google.colaboratory.intrinsic+json": {
              "type": "string"
            },
            "text/plain": [
              "'g'"
            ]
          },
          "metadata": {
            "tags": []
          },
          "execution_count": 26
        }
      ]
    },
    {
      "cell_type": "code",
      "metadata": {
        "colab": {
          "base_uri": "https://localhost:8080/",
          "height": 35
        },
        "id": "Ui1DCFLBcQdw",
        "outputId": "d5422a27-8165-4967-8aa8-520286d33491"
      },
      "source": [
        "x[-4:-2]"
      ],
      "execution_count": null,
      "outputs": [
        {
          "output_type": "execute_result",
          "data": {
            "application/vnd.google.colaboratory.intrinsic+json": {
              "type": "string"
            },
            "text/plain": [
              "'ri'"
            ]
          },
          "metadata": {
            "tags": []
          },
          "execution_count": 27
        }
      ]
    },
    {
      "cell_type": "code",
      "metadata": {
        "colab": {
          "base_uri": "https://localhost:8080/",
          "height": 35
        },
        "id": "JlkeZiBGcTfa",
        "outputId": "3c047e33-4397-42b2-c68c-0c247cb282f1"
      },
      "source": [
        "x[:3]"
      ],
      "execution_count": null,
      "outputs": [
        {
          "output_type": "execute_result",
          "data": {
            "application/vnd.google.colaboratory.intrinsic+json": {
              "type": "string"
            },
            "text/plain": [
              "'thi'"
            ]
          },
          "metadata": {
            "tags": []
          },
          "execution_count": 28
        }
      ]
    },
    {
      "cell_type": "code",
      "metadata": {
        "colab": {
          "base_uri": "https://localhost:8080/",
          "height": 35
        },
        "id": "51VmxT1CcVTi",
        "outputId": "4c76e29f-0c6d-4901-f09c-7dcc32b96ea8"
      },
      "source": [
        "x[3:]"
      ],
      "execution_count": null,
      "outputs": [
        {
          "output_type": "execute_result",
          "data": {
            "application/vnd.google.colaboratory.intrinsic+json": {
              "type": "string"
            },
            "text/plain": [
              "'s is a string'"
            ]
          },
          "metadata": {
            "tags": []
          },
          "execution_count": 29
        }
      ]
    },
    {
      "cell_type": "code",
      "metadata": {
        "colab": {
          "base_uri": "https://localhost:8080/"
        },
        "id": "8NFlHCPScZpm",
        "outputId": "7d78d20d-dfa5-46ba-e9a2-24d2833f254a"
      },
      "source": [
        "firstname = \"Christopher\"\r\n",
        "lastname = \"brooks\"\r\n",
        "\r\n",
        "print(firstname+\" \"+lastname)\r\n",
        "print(firstname *3)\r\n",
        "print('Chris' in firstname)"
      ],
      "execution_count": null,
      "outputs": [
        {
          "output_type": "stream",
          "text": [
            "Christopher brooks\n",
            "ChristopherChristopherChristopher\n",
            "True\n"
          ],
          "name": "stdout"
        }
      ]
    },
    {
      "cell_type": "code",
      "metadata": {
        "colab": {
          "base_uri": "https://localhost:8080/"
        },
        "id": "PhaTo-GSdBJ9",
        "outputId": "9562396f-ea46-47be-dbb4-cdd6002dda03"
      },
      "source": [
        "firstname = 'Christopher Arthur Hansen Brooks'.split(' ')[0]\r\n",
        "lastname = 'Christopher Arthur Hansen Brooks'.split(' ')[-1]\r\n",
        "print(firstname + \" \"+ lastname)"
      ],
      "execution_count": null,
      "outputs": [
        {
          "output_type": "stream",
          "text": [
            "Christopher Brooks\n"
          ],
          "name": "stdout"
        }
      ]
    },
    {
      "cell_type": "code",
      "metadata": {
        "colab": {
          "base_uri": "https://localhost:8080/",
          "height": 35
        },
        "id": "V8qDVsF2c8nA",
        "outputId": "be915c2b-37f3-4db2-cc3e-9d5ad8f82ef9"
      },
      "source": [
        "x = {'Christopher Brooks': \"brook@unich.edu\", 'Bill gates': 'bill@microsoft.in'}\r\n",
        "x['Christopher Brooks']"
      ],
      "execution_count": null,
      "outputs": [
        {
          "output_type": "execute_result",
          "data": {
            "application/vnd.google.colaboratory.intrinsic+json": {
              "type": "string"
            },
            "text/plain": [
              "'brook@unich.edu'"
            ]
          },
          "metadata": {
            "tags": []
          },
          "execution_count": 34
        }
      ]
    },
    {
      "cell_type": "code",
      "metadata": {
        "id": "Sa2LahWudr7B"
      },
      "source": [
        "x['kevin Collins-Thompson'] = None\r\n",
        "x['kevin Collins-Thompson']"
      ],
      "execution_count": null,
      "outputs": []
    },
    {
      "cell_type": "code",
      "metadata": {
        "colab": {
          "base_uri": "https://localhost:8080/"
        },
        "id": "DhItpGV9d1D9",
        "outputId": "9df867dd-7788-4c66-baf0-c8d43bb3bee2"
      },
      "source": [
        "for name in x:\r\n",
        "  print(x[name])"
      ],
      "execution_count": null,
      "outputs": [
        {
          "output_type": "stream",
          "text": [
            "brook@unich.edu\n",
            "bill@microsoft.in\n",
            "None\n"
          ],
          "name": "stdout"
        }
      ]
    },
    {
      "cell_type": "code",
      "metadata": {
        "colab": {
          "base_uri": "https://localhost:8080/"
        },
        "id": "1oREstA6d6lU",
        "outputId": "b9314118-5504-40a6-f28f-f4f92e7531ef"
      },
      "source": [
        "for email in x.values():\r\n",
        "  print(email)"
      ],
      "execution_count": null,
      "outputs": [
        {
          "output_type": "stream",
          "text": [
            "brook@unich.edu\n",
            "bill@microsoft.in\n",
            "None\n"
          ],
          "name": "stdout"
        }
      ]
    },
    {
      "cell_type": "code",
      "metadata": {
        "colab": {
          "base_uri": "https://localhost:8080/"
        },
        "id": "w4UuDlCgd_DB",
        "outputId": "74161202-de60-464e-fb42-64a9164e3b7e"
      },
      "source": [
        "for name in x.keys():\r\n",
        "  print(name)"
      ],
      "execution_count": null,
      "outputs": [
        {
          "output_type": "stream",
          "text": [
            "Christopher Brooks\n",
            "Bill gates\n",
            "kevin Collins-Thompson\n"
          ],
          "name": "stdout"
        }
      ]
    },
    {
      "cell_type": "code",
      "metadata": {
        "colab": {
          "base_uri": "https://localhost:8080/"
        },
        "id": "xJhaAG2-eDrS",
        "outputId": "c91c2e7a-1298-4a39-e109-68abb8f58cb4"
      },
      "source": [
        "for name, email in x.items():\r\n",
        "  print(name)\r\n",
        "  print(email)"
      ],
      "execution_count": null,
      "outputs": [
        {
          "output_type": "stream",
          "text": [
            "Christopher Brooks\n",
            "brook@unich.edu\n",
            "Bill gates\n",
            "bill@microsoft.in\n",
            "kevin Collins-Thompson\n",
            "None\n"
          ],
          "name": "stdout"
        }
      ]
    },
    {
      "cell_type": "code",
      "metadata": {
        "id": "McgPSBLMeY0r"
      },
      "source": [
        "x = ('chris', 'Brooks', 'brooks@unich.edu')\r\n",
        "fname, lname, email = x"
      ],
      "execution_count": null,
      "outputs": []
    },
    {
      "cell_type": "code",
      "metadata": {
        "colab": {
          "base_uri": "https://localhost:8080/",
          "height": 35
        },
        "id": "1Uz3RMjUei8Q",
        "outputId": "793ca104-541d-4750-c8c1-f472e26e7ae0"
      },
      "source": [
        "fname\r\n"
      ],
      "execution_count": null,
      "outputs": [
        {
          "output_type": "execute_result",
          "data": {
            "application/vnd.google.colaboratory.intrinsic+json": {
              "type": "string"
            },
            "text/plain": [
              "'chris'"
            ]
          },
          "metadata": {
            "tags": []
          },
          "execution_count": 47
        }
      ]
    },
    {
      "cell_type": "code",
      "metadata": {
        "colab": {
          "base_uri": "https://localhost:8080/",
          "height": 35
        },
        "id": "lbr8y0SMeqef",
        "outputId": "00b76f9e-ebf4-4ad8-fdf4-c1f5429c5f11"
      },
      "source": [
        "lname"
      ],
      "execution_count": null,
      "outputs": [
        {
          "output_type": "execute_result",
          "data": {
            "application/vnd.google.colaboratory.intrinsic+json": {
              "type": "string"
            },
            "text/plain": [
              "'Brooks'"
            ]
          },
          "metadata": {
            "tags": []
          },
          "execution_count": 48
        }
      ]
    },
    {
      "cell_type": "code",
      "metadata": {
        "colab": {
          "base_uri": "https://localhost:8080/",
          "height": 35
        },
        "id": "1VjVvbu6erT7",
        "outputId": "a84b37e5-153f-4aed-d645-f23d51bc33e4"
      },
      "source": [
        "email"
      ],
      "execution_count": null,
      "outputs": [
        {
          "output_type": "execute_result",
          "data": {
            "application/vnd.google.colaboratory.intrinsic+json": {
              "type": "string"
            },
            "text/plain": [
              "'brooks@unich.edu'"
            ]
          },
          "metadata": {
            "tags": []
          },
          "execution_count": 49
        }
      ]
    },
    {
      "cell_type": "markdown",
      "metadata": {
        "id": "9WF1Tcpge2lU"
      },
      "source": [
        "#**The Python Programming Language: More on Strings**"
      ]
    },
    {
      "cell_type": "code",
      "metadata": {
        "colab": {
          "base_uri": "https://localhost:8080/",
          "height": 162
        },
        "id": "Qcs1v_Cee2EL",
        "outputId": "c8a0c285-986e-4490-dff2-d82dca99940d"
      },
      "source": [
        "print('Chris'+2)"
      ],
      "execution_count": null,
      "outputs": [
        {
          "output_type": "error",
          "ename": "TypeError",
          "evalue": "ignored",
          "traceback": [
            "\u001b[0;31m---------------------------------------------------------------------------\u001b[0m",
            "\u001b[0;31mTypeError\u001b[0m                                 Traceback (most recent call last)",
            "\u001b[0;32m<ipython-input-50-c83b9b2ff5cc>\u001b[0m in \u001b[0;36m<module>\u001b[0;34m()\u001b[0m\n\u001b[0;32m----> 1\u001b[0;31m \u001b[0mprint\u001b[0m\u001b[0;34m(\u001b[0m\u001b[0;34m'Chris'\u001b[0m\u001b[0;34m+\u001b[0m\u001b[0;36m2\u001b[0m\u001b[0;34m)\u001b[0m\u001b[0;34m\u001b[0m\u001b[0;34m\u001b[0m\u001b[0m\n\u001b[0m",
            "\u001b[0;31mTypeError\u001b[0m: can only concatenate str (not \"int\") to str"
          ]
        }
      ]
    },
    {
      "cell_type": "code",
      "metadata": {
        "colab": {
          "base_uri": "https://localhost:8080/"
        },
        "id": "i2AHRGwifFmI",
        "outputId": "56e84b89-f07a-4b4a-a1c3-8cbf65b26fbe"
      },
      "source": [
        "print('chris'+str(2))"
      ],
      "execution_count": null,
      "outputs": [
        {
          "output_type": "stream",
          "text": [
            "chris2\n"
          ],
          "name": "stdout"
        }
      ]
    },
    {
      "cell_type": "code",
      "metadata": {
        "colab": {
          "base_uri": "https://localhost:8080/"
        },
        "id": "PidV_9oUfJ6C",
        "outputId": "e22e70ae-af24-46b8-91e5-b6ea09589ac5"
      },
      "source": [
        "sales_record = {'price': 3.24,\r\n",
        "                'num_items': 4,\r\n",
        "                'person' : 'Chris'\r\n",
        "}\r\n",
        "sales_statement = '{} bought {} items at a price of {} each for a total of {}'\r\n",
        "\r\n",
        "print(sales_statement.format(sales_record['person'],\r\n",
        "                             sales_record['num_items'],\r\n",
        "                             sales_record['price'],\r\n",
        "                             sales_record['num_items']*sales_record['price']))"
      ],
      "execution_count": null,
      "outputs": [
        {
          "output_type": "stream",
          "text": [
            "Chris bought 4 items at a price of 3.24 each for a total of 12.96\n"
          ],
          "name": "stdout"
        }
      ]
    },
    {
      "cell_type": "markdown",
      "metadata": {
        "id": "wuj6HATlxBJq"
      },
      "source": [
        "#**Data Files and Summary Statistics**"
      ]
    },
    {
      "cell_type": "code",
      "metadata": {
        "colab": {
          "base_uri": "https://localhost:8080/"
        },
        "id": "5y8M-qHYxHrG",
        "outputId": "0656893d-61f3-4353-931d-3ddc1b052de6"
      },
      "source": [
        "import csv\r\n",
        "%precision 2\r\n",
        "\r\n",
        "with open('mpg.csv') as csvFile:\r\n",
        "  mpg = list(csv.DictReader(csvFile))\r\n",
        "\r\n",
        "mpg[:3] # The first three dictionaries in our list."
      ],
      "execution_count": 1,
      "outputs": [
        {
          "output_type": "execute_result",
          "data": {
            "text/plain": [
              "[OrderedDict([('', '1'),\n",
              "              ('manufacturer', 'audi'),\n",
              "              ('model', 'a4'),\n",
              "              ('displ', '1.8'),\n",
              "              ('year', '1999'),\n",
              "              ('cyl', '4'),\n",
              "              ('trans', 'auto(l5)'),\n",
              "              ('drv', 'f'),\n",
              "              ('cty', '18'),\n",
              "              ('hwy', '29'),\n",
              "              ('fl', 'p'),\n",
              "              ('class', 'compact')]),\n",
              " OrderedDict([('', '2'),\n",
              "              ('manufacturer', 'audi'),\n",
              "              ('model', 'a4'),\n",
              "              ('displ', '1.8'),\n",
              "              ('year', '1999'),\n",
              "              ('cyl', '4'),\n",
              "              ('trans', 'manual(m5)'),\n",
              "              ('drv', 'f'),\n",
              "              ('cty', '21'),\n",
              "              ('hwy', '29'),\n",
              "              ('fl', 'p'),\n",
              "              ('class', 'compact')]),\n",
              " OrderedDict([('', '3'),\n",
              "              ('manufacturer', 'audi'),\n",
              "              ('model', 'a4'),\n",
              "              ('displ', '2'),\n",
              "              ('year', '2008'),\n",
              "              ('cyl', '4'),\n",
              "              ('trans', 'manual(m6)'),\n",
              "              ('drv', 'f'),\n",
              "              ('cty', '20'),\n",
              "              ('hwy', '31'),\n",
              "              ('fl', 'p'),\n",
              "              ('class', 'compact')])]"
            ]
          },
          "metadata": {
            "tags": []
          },
          "execution_count": 1
        }
      ]
    },
    {
      "cell_type": "code",
      "metadata": {
        "colab": {
          "base_uri": "https://localhost:8080/"
        },
        "id": "_Fmj8LZI5dZU",
        "outputId": "96269269-4476-4a0d-c8b7-8dc7c34dff7d"
      },
      "source": [
        "len(mpg)"
      ],
      "execution_count": 2,
      "outputs": [
        {
          "output_type": "execute_result",
          "data": {
            "text/plain": [
              "234"
            ]
          },
          "metadata": {
            "tags": []
          },
          "execution_count": 2
        }
      ]
    },
    {
      "cell_type": "code",
      "metadata": {
        "colab": {
          "base_uri": "https://localhost:8080/"
        },
        "id": "nKERdc665h-y",
        "outputId": "4d265834-e56f-415c-c380-7a208cacb43d"
      },
      "source": [
        "mpg[0].keys()"
      ],
      "execution_count": 3,
      "outputs": [
        {
          "output_type": "execute_result",
          "data": {
            "text/plain": [
              "odict_keys(['', 'manufacturer', 'model', 'displ', 'year', 'cyl', 'trans', 'drv', 'cty', 'hwy', 'fl', 'class'])"
            ]
          },
          "metadata": {
            "tags": []
          },
          "execution_count": 3
        }
      ]
    },
    {
      "cell_type": "code",
      "metadata": {
        "colab": {
          "base_uri": "https://localhost:8080/"
        },
        "id": "8v-xObxG6yIK",
        "outputId": "4ba7cd4a-0d1c-468e-a3ed-b1752ce9bdde"
      },
      "source": [
        "sum(float(d['cty']) for d in mpg) / len(mpg)"
      ],
      "execution_count": 5,
      "outputs": [
        {
          "output_type": "execute_result",
          "data": {
            "text/plain": [
              "16.86"
            ]
          },
          "metadata": {
            "tags": []
          },
          "execution_count": 5
        }
      ]
    },
    {
      "cell_type": "code",
      "metadata": {
        "colab": {
          "base_uri": "https://localhost:8080/"
        },
        "id": "HQhnkoCQ68wY",
        "outputId": "c8bfbff4-7994-4cf4-92e3-79ab1ffb6333"
      },
      "source": [
        "sum(float(d['hwy']) for d in mpg) / len(mpg)"
      ],
      "execution_count": 6,
      "outputs": [
        {
          "output_type": "execute_result",
          "data": {
            "text/plain": [
              "23.44"
            ]
          },
          "metadata": {
            "tags": []
          },
          "execution_count": 6
        }
      ]
    },
    {
      "cell_type": "code",
      "metadata": {
        "colab": {
          "base_uri": "https://localhost:8080/"
        },
        "id": "sY-sgrxZ7D5V",
        "outputId": "b1f3cffb-d2c8-42fa-9fb1-3e5a5f2e01bd"
      },
      "source": [
        "cylinders = set(d['cyl'] for d in mpg)\r\n",
        "cylinders"
      ],
      "execution_count": 8,
      "outputs": [
        {
          "output_type": "execute_result",
          "data": {
            "text/plain": [
              "{'4', '5', '6', '8'}"
            ]
          },
          "metadata": {
            "tags": []
          },
          "execution_count": 8
        }
      ]
    },
    {
      "cell_type": "code",
      "metadata": {
        "colab": {
          "base_uri": "https://localhost:8080/"
        },
        "id": "4NekIwc27Q7O",
        "outputId": "f638f1ca-ffe9-4757-c72e-05e82ff010ff"
      },
      "source": [
        "CtyMpgByCyl = []\r\n",
        "\r\n",
        "for c in cylinders: # iterate over all the cylinder levels\r\n",
        "    summpg = 0\r\n",
        "    cyltypecount = 0\r\n",
        "    for d in mpg: # iterate over all dictionaries\r\n",
        "        if d['cyl'] == c: # if the cylinder level type matches,\r\n",
        "            summpg += float(d['cty']) # add the cty mpg\r\n",
        "            cyltypecount += 1 # increment the count\r\n",
        "    CtyMpgByCyl.append((c, summpg / cyltypecount)) # append the tuple ('cylinder', 'avg mpg')\r\n",
        "\r\n",
        "CtyMpgByCyl.sort(key=lambda x: x[0])\r\n",
        "CtyMpgByCyl"
      ],
      "execution_count": 12,
      "outputs": [
        {
          "output_type": "execute_result",
          "data": {
            "text/plain": [
              "[('4', 21.01), ('5', 20.50), ('6', 16.22), ('8', 12.57)]"
            ]
          },
          "metadata": {
            "tags": []
          },
          "execution_count": 12
        }
      ]
    },
    {
      "cell_type": "code",
      "metadata": {
        "colab": {
          "base_uri": "https://localhost:8080/"
        },
        "id": "TECpcdpX9OXv",
        "outputId": "5c8a4473-779b-4253-9578-9991e6f7bd1e"
      },
      "source": [
        "vehicleClass = set(d['class'] for d in mpg)\r\n",
        "vehicleClass"
      ],
      "execution_count": 13,
      "outputs": [
        {
          "output_type": "execute_result",
          "data": {
            "text/plain": [
              "{'2seater', 'compact', 'midsize', 'minivan', 'pickup', 'subcompact', 'suv'}"
            ]
          },
          "metadata": {
            "tags": []
          },
          "execution_count": 13
        }
      ]
    },
    {
      "cell_type": "code",
      "metadata": {
        "colab": {
          "base_uri": "https://localhost:8080/"
        },
        "id": "Jr_UW-Er_rlB",
        "outputId": "9a7be205-a2fc-462f-cf58-798a3e4c2d72"
      },
      "source": [
        "HwyMpgByClass = []\r\n",
        "\r\n",
        "for t in vehicleClass:  # iterate over all the vehicle classes\r\n",
        "    summpg = 0\r\n",
        "    vclasscount = 0\r\n",
        "    for d in mpg: # iterate over all dictionaries\r\n",
        "        if d['class'] == t: # if the cylinder amount type matches,\r\n",
        "            summpg += float(d['hwy']) # add the hwy mpg\r\n",
        "            vclasscount += 1 # increment the count\r\n",
        "    HwyMpgByClass.append((t, summpg / vclasscount)) # append the tuple ('class', 'avg mpg')\r\n",
        "\r\n",
        "HwyMpgByClass.sort(key=lambda x: x[1])\r\n",
        "HwyMpgByClass"
      ],
      "execution_count": 15,
      "outputs": [
        {
          "output_type": "execute_result",
          "data": {
            "text/plain": [
              "[('pickup', 16.88),\n",
              " ('suv', 18.13),\n",
              " ('minivan', 22.36),\n",
              " ('2seater', 24.80),\n",
              " ('midsize', 27.29),\n",
              " ('subcompact', 28.14),\n",
              " ('compact', 28.30)]"
            ]
          },
          "metadata": {
            "tags": []
          },
          "execution_count": 15
        }
      ]
    },
    {
      "cell_type": "markdown",
      "metadata": {
        "id": "6P_EqySL_2DE"
      },
      "source": [
        "#**The Python Programming Language: Dates and Time**"
      ]
    },
    {
      "cell_type": "code",
      "metadata": {
        "id": "a_LvWrsJADFU"
      },
      "source": [
        "import datetime as dt\r\n",
        "import time as tm"
      ],
      "execution_count": 17,
      "outputs": []
    },
    {
      "cell_type": "code",
      "metadata": {
        "colab": {
          "base_uri": "https://localhost:8080/"
        },
        "id": "NI3iHUoXAMmQ",
        "outputId": "f7fe3f33-4191-495d-86b6-a761ecc23ac4"
      },
      "source": [
        "tm.time()"
      ],
      "execution_count": 18,
      "outputs": [
        {
          "output_type": "execute_result",
          "data": {
            "text/plain": [
              "1615981501.53"
            ]
          },
          "metadata": {
            "tags": []
          },
          "execution_count": 18
        }
      ]
    },
    {
      "cell_type": "code",
      "metadata": {
        "colab": {
          "base_uri": "https://localhost:8080/"
        },
        "id": "MYZfW8anAvhn",
        "outputId": "1fb0bd85-018a-4bfd-a6a7-96d32ac21182"
      },
      "source": [
        "dtnow = dt.datetime.fromtimestamp(tm.time())\r\n",
        "dtnow"
      ],
      "execution_count": 19,
      "outputs": [
        {
          "output_type": "execute_result",
          "data": {
            "text/plain": [
              "datetime.datetime(2021, 3, 17, 11, 53, 42, 114920)"
            ]
          },
          "metadata": {
            "tags": []
          },
          "execution_count": 19
        }
      ]
    },
    {
      "cell_type": "code",
      "metadata": {
        "colab": {
          "base_uri": "https://localhost:8080/"
        },
        "id": "n6ArKv94COId",
        "outputId": "86c9b7d1-02ab-46db-dbb4-b930ea8a64d1"
      },
      "source": [
        "dtnow.year, dtnow.month, dtnow.day, dtnow.hour, dtnow.minute, dtnow.second"
      ],
      "execution_count": 21,
      "outputs": [
        {
          "output_type": "execute_result",
          "data": {
            "text/plain": [
              "(2021, 3, 17, 11, 53, 42)"
            ]
          },
          "metadata": {
            "tags": []
          },
          "execution_count": 21
        }
      ]
    },
    {
      "cell_type": "code",
      "metadata": {
        "colab": {
          "base_uri": "https://localhost:8080/"
        },
        "id": "PFfOX_RfCl-y",
        "outputId": "43cef4ec-384c-4bf3-9577-0cd4b7cc0de7"
      },
      "source": [
        "delta = dt.timedelta(days=100)\r\n",
        "delta"
      ],
      "execution_count": 22,
      "outputs": [
        {
          "output_type": "execute_result",
          "data": {
            "text/plain": [
              "datetime.timedelta(days=100)"
            ]
          },
          "metadata": {
            "tags": []
          },
          "execution_count": 22
        }
      ]
    },
    {
      "cell_type": "code",
      "metadata": {
        "colab": {
          "base_uri": "https://localhost:8080/"
        },
        "id": "Jrv8rskUCsJv",
        "outputId": "0d7e8b05-c1d7-4643-c588-b9340b78d8ba"
      },
      "source": [
        "today = dt.datetime.today()\r\n",
        "today"
      ],
      "execution_count": 24,
      "outputs": [
        {
          "output_type": "execute_result",
          "data": {
            "text/plain": [
              "datetime.datetime(2021, 3, 17, 11, 56, 15, 854871)"
            ]
          },
          "metadata": {
            "tags": []
          },
          "execution_count": 24
        }
      ]
    }
  ]
}