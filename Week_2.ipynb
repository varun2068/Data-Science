{
  "nbformat": 4,
  "nbformat_minor": 0,
  "metadata": {
    "colab": {
      "name": "Week 2.ipynb",
      "provenance": [],
      "collapsed_sections": [],
      "authorship_tag": "ABX9TyNkF8gNIkCNDJwkSAfUtItK",
      "include_colab_link": true
    },
    "kernelspec": {
      "name": "python3",
      "display_name": "Python 3"
    }
  },
  "cells": [
    {
      "cell_type": "markdown",
      "metadata": {
        "id": "view-in-github",
        "colab_type": "text"
      },
      "source": [
        "<a href=\"https://colab.research.google.com/github/varun2068/Data-Science/blob/main/Week_2.ipynb\" target=\"_parent\"><img src=\"https://colab.research.google.com/assets/colab-badge.svg\" alt=\"Open In Colab\"/></a>"
      ]
    },
    {
      "cell_type": "markdown",
      "metadata": {
        "id": "Rls0knvOo-f1"
      },
      "source": [
        "#**Pandas**"
      ]
    },
    {
      "cell_type": "code",
      "metadata": {
        "id": "yx8reKOilEPr"
      },
      "source": [
        " import pandas as pd"
      ],
      "execution_count": 1,
      "outputs": []
    },
    {
      "cell_type": "code",
      "metadata": {
        "colab": {
          "base_uri": "https://localhost:8080/"
        },
        "id": "R1YhdlG9lxeP",
        "outputId": "2b45bf50-fab7-44bf-ce17-1a2315c4dea1"
      },
      "source": [
        "students = ['Alice', 'Jack', 'Molly']\r\n",
        "pd.Series(students)"
      ],
      "execution_count": 3,
      "outputs": [
        {
          "output_type": "execute_result",
          "data": {
            "text/plain": [
              "0    Alice\n",
              "1     Jack\n",
              "2    Molly\n",
              "dtype: object"
            ]
          },
          "metadata": {
            "tags": []
          },
          "execution_count": 3
        }
      ]
    },
    {
      "cell_type": "code",
      "metadata": {
        "colab": {
          "base_uri": "https://localhost:8080/"
        },
        "id": "2KeywO-VmUY2",
        "outputId": "84903bce-38d2-4e25-bdd6-27cf85aff212"
      },
      "source": [
        "numbers = [1, 2, 3]\r\n",
        "pd.Series(numbers)"
      ],
      "execution_count": 4,
      "outputs": [
        {
          "output_type": "execute_result",
          "data": {
            "text/plain": [
              "0    1\n",
              "1    2\n",
              "2    3\n",
              "dtype: int64"
            ]
          },
          "metadata": {
            "tags": []
          },
          "execution_count": 4
        }
      ]
    },
    {
      "cell_type": "code",
      "metadata": {
        "id": "14D8tQlapEAE"
      },
      "source": [
        ""
      ],
      "execution_count": null,
      "outputs": []
    },
    {
      "cell_type": "code",
      "metadata": {
        "colab": {
          "base_uri": "https://localhost:8080/"
        },
        "id": "c_lHmEvxmcj1",
        "outputId": "4588a19e-a5f2-42a0-e370-d7cbc2216599"
      },
      "source": [
        "students = ['Alice', 'Jack', None]\r\n",
        "pd.Series(students)"
      ],
      "execution_count": 5,
      "outputs": [
        {
          "output_type": "execute_result",
          "data": {
            "text/plain": [
              "0    Alice\n",
              "1     Jack\n",
              "2     None\n",
              "dtype: object"
            ]
          },
          "metadata": {
            "tags": []
          },
          "execution_count": 5
        }
      ]
    },
    {
      "cell_type": "code",
      "metadata": {
        "colab": {
          "base_uri": "https://localhost:8080/"
        },
        "id": "yY72OEeymlDE",
        "outputId": "9efd0542-f035-41bf-a39f-68f8a8dd90e8"
      },
      "source": [
        "numbers = [1, 2, None]\r\n",
        "pd.Series(numbers)\r\n",
        "#if data is missing from a list python change its type  to float as seen"
      ],
      "execution_count": 6,
      "outputs": [
        {
          "output_type": "execute_result",
          "data": {
            "text/plain": [
              "0    1.0\n",
              "1    2.0\n",
              "2    NaN\n",
              "dtype: float64"
            ]
          },
          "metadata": {
            "tags": []
          },
          "execution_count": 6
        }
      ]
    },
    {
      "cell_type": "code",
      "metadata": {
        "colab": {
          "base_uri": "https://localhost:8080/"
        },
        "id": "3TT0okW8mpPI",
        "outputId": "416ca761-934b-4f10-e328-837295b62d6d"
      },
      "source": [
        "student_scores = {\r\n",
        "    'Alice' : 'Physics',\r\n",
        "    'Molly' : 'English',\r\n",
        "    'Jack' : 'Chemistry'\r\n",
        "}\r\n",
        "s = pd.Series(student_scores)\r\n",
        "s"
      ],
      "execution_count": 7,
      "outputs": [
        {
          "output_type": "execute_result",
          "data": {
            "text/plain": [
              "Alice      Physics\n",
              "Molly      English\n",
              "Jack     Chemistry\n",
              "dtype: object"
            ]
          },
          "metadata": {
            "tags": []
          },
          "execution_count": 7
        }
      ]
    },
    {
      "cell_type": "code",
      "metadata": {
        "colab": {
          "base_uri": "https://localhost:8080/"
        },
        "id": "YQmR5aYJnQvO",
        "outputId": "db85ad4a-375e-4a57-c6c4-9c7a3271773d"
      },
      "source": [
        "s.index"
      ],
      "execution_count": 8,
      "outputs": [
        {
          "output_type": "execute_result",
          "data": {
            "text/plain": [
              "Index(['Alice', 'Molly', 'Jack'], dtype='object')"
            ]
          },
          "metadata": {
            "tags": []
          },
          "execution_count": 8
        }
      ]
    },
    {
      "cell_type": "code",
      "metadata": {
        "colab": {
          "base_uri": "https://localhost:8080/"
        },
        "id": "Hkv-YEdBnT1C",
        "outputId": "60643438-b510-4e49-c002-bd4bcdef4357"
      },
      "source": [
        "students = [(\"Alice\", \"Brown\"), (\"Jack\", \"Blue\"), (\"Molly\", \"Yellow\")]\r\n",
        "pd.Series(students)"
      ],
      "execution_count": 9,
      "outputs": [
        {
          "output_type": "execute_result",
          "data": {
            "text/plain": [
              "0     (Alice, Brown)\n",
              "1       (Jack, Blue)\n",
              "2    (Molly, Yellow)\n",
              "dtype: object"
            ]
          },
          "metadata": {
            "tags": []
          },
          "execution_count": 9
        }
      ]
    },
    {
      "cell_type": "code",
      "metadata": {
        "colab": {
          "base_uri": "https://localhost:8080/"
        },
        "id": "0ITRKL9HnuhE",
        "outputId": "a4ef6186-4e1e-42ee-d7b1-ca632ad9e2e8"
      },
      "source": [
        "stud = pd.Series(['Physics', 'Chemistry', \"Biology\"], index=['Alice', 'Jack', 'Mooly'])\r\n",
        "stud"
      ],
      "execution_count": 11,
      "outputs": [
        {
          "output_type": "execute_result",
          "data": {
            "text/plain": [
              "Alice      Physics\n",
              "Jack     Chemistry\n",
              "Mooly      Biology\n",
              "dtype: object"
            ]
          },
          "metadata": {
            "tags": []
          },
          "execution_count": 11
        }
      ]
    },
    {
      "cell_type": "code",
      "metadata": {
        "colab": {
          "base_uri": "https://localhost:8080/"
        },
        "id": "WvMEMdItoEA1",
        "outputId": "e009d02b-40e9-41dd-aea5-4f627604dd45"
      },
      "source": [
        "student_scores = {\r\n",
        "    'Alice' : 'Physics',\r\n",
        "    'Molly' : 'English',\r\n",
        "    'Jack' : 'Chemistry'\r\n",
        "}\r\n",
        "s = pd.Series(student_scores,  index=['Alice', 'Jack', 'Sam'])\r\n",
        "s"
      ],
      "execution_count": 13,
      "outputs": [
        {
          "output_type": "execute_result",
          "data": {
            "text/plain": [
              "Alice      Physics\n",
              "Jack     Chemistry\n",
              "Sam            NaN\n",
              "dtype: object"
            ]
          },
          "metadata": {
            "tags": []
          },
          "execution_count": 13
        }
      ]
    },
    {
      "cell_type": "markdown",
      "metadata": {
        "id": "9vbkmrWmoc7m"
      },
      "source": [
        "As sam is not in the dictionary *student_scores* that's why when we use pandas to make it Series it will show Alice and Jack and Sam value as Nan because it doesn't exist in the dictionary"
      ]
    },
    {
      "cell_type": "markdown",
      "metadata": {
        "id": "Jc3hTYffo6m7"
      },
      "source": [
        "##**Querying In Series**"
      ]
    },
    {
      "cell_type": "code",
      "metadata": {
        "colab": {
          "base_uri": "https://localhost:8080/"
        },
        "id": "0FWnNofVo5j-",
        "outputId": "c280eaa1-6e2a-4d54-bbff-6b0095c11072"
      },
      "source": [
        "student_classes = {\r\n",
        "    'Alice' : 'Physics',\r\n",
        "    'Molly' : 'English',\r\n",
        "    'Jack' : 'Chemistry',\r\n",
        "    'Sam' : 'Biology'\r\n",
        "}\r\n",
        "s = pd.Series(student_classes)\r\n",
        "s"
      ],
      "execution_count": 14,
      "outputs": [
        {
          "output_type": "execute_result",
          "data": {
            "text/plain": [
              "Alice      Physics\n",
              "Molly      English\n",
              "Jack     Chemistry\n",
              "Sam        Biology\n",
              "dtype: object"
            ]
          },
          "metadata": {
            "tags": []
          },
          "execution_count": 14
        }
      ]
    },
    {
      "cell_type": "code",
      "metadata": {
        "colab": {
          "base_uri": "https://localhost:8080/",
          "height": 35
        },
        "id": "mqkCR_eIpRWO",
        "outputId": "9efaef6d-4292-40df-b207-ce61ca62045d"
      },
      "source": [
        "s.iloc[2]"
      ],
      "execution_count": 15,
      "outputs": [
        {
          "output_type": "execute_result",
          "data": {
            "application/vnd.google.colaboratory.intrinsic+json": {
              "type": "string"
            },
            "text/plain": [
              "'Chemistry'"
            ]
          },
          "metadata": {
            "tags": []
          },
          "execution_count": 15
        }
      ]
    },
    {
      "cell_type": "code",
      "metadata": {
        "colab": {
          "base_uri": "https://localhost:8080/",
          "height": 35
        },
        "id": "qKLocq6RpWEN",
        "outputId": "c9b06146-5ea2-4249-a5c6-497355f1dd6c"
      },
      "source": [
        "s.loc['Molly']"
      ],
      "execution_count": 16,
      "outputs": [
        {
          "output_type": "execute_result",
          "data": {
            "application/vnd.google.colaboratory.intrinsic+json": {
              "type": "string"
            },
            "text/plain": [
              "'English'"
            ]
          },
          "metadata": {
            "tags": []
          },
          "execution_count": 16
        }
      ]
    },
    {
      "cell_type": "markdown",
      "metadata": {
        "id": "OVqPmo1Bpa09"
      },
      "source": [
        "```iloc``` and ```loc``` are not methods, they are attributes. So you don't use parenthesis to query them, but square brackets instead, which is called indexing operator."
      ]
    },
    {
      "cell_type": "code",
      "metadata": {
        "colab": {
          "base_uri": "https://localhost:8080/",
          "height": 35
        },
        "id": "YqLn6zMqpZrp",
        "outputId": "ba43d363-4dd5-4f90-dd35-9f0a2e1a699f"
      },
      "source": [
        "s[2]"
      ],
      "execution_count": 17,
      "outputs": [
        {
          "output_type": "execute_result",
          "data": {
            "application/vnd.google.colaboratory.intrinsic+json": {
              "type": "string"
            },
            "text/plain": [
              "'Chemistry'"
            ]
          },
          "metadata": {
            "tags": []
          },
          "execution_count": 17
        }
      ]
    },
    {
      "cell_type": "code",
      "metadata": {
        "colab": {
          "base_uri": "https://localhost:8080/",
          "height": 35
        },
        "id": "QVXJIicfp3Ke",
        "outputId": "db2e9aac-c3cb-472c-d087-45bc816b73ca"
      },
      "source": [
        "s['Sam']"
      ],
      "execution_count": 18,
      "outputs": [
        {
          "output_type": "execute_result",
          "data": {
            "application/vnd.google.colaboratory.intrinsic+json": {
              "type": "string"
            },
            "text/plain": [
              "'Biology'"
            ]
          },
          "metadata": {
            "tags": []
          },
          "execution_count": 18
        }
      ]
    },
    {
      "cell_type": "code",
      "metadata": {
        "colab": {
          "base_uri": "https://localhost:8080/"
        },
        "id": "w3GjZXqVp5FA",
        "outputId": "52d46630-e0c3-40ce-ea57-96fda9a881c8"
      },
      "source": [
        "sub_code = {\r\n",
        "    99 : 'Physics',\r\n",
        "    102 : 'English',\r\n",
        "    100 : 'Chemistry',\r\n",
        "    101 : 'Biology'\r\n",
        "}\r\n",
        "s = pd.Series(sub_code)\r\n",
        "s"
      ],
      "execution_count": 22,
      "outputs": [
        {
          "output_type": "execute_result",
          "data": {
            "text/plain": [
              "99       Physics\n",
              "102      English\n",
              "100    Chemistry\n",
              "101      Biology\n",
              "dtype: object"
            ]
          },
          "metadata": {
            "tags": []
          },
          "execution_count": 22
        }
      ]
    },
    {
      "cell_type": "code",
      "metadata": {
        "colab": {
          "base_uri": "https://localhost:8080/",
          "height": 561
        },
        "id": "CJ4bCS4RqTJe",
        "outputId": "54508f9d-551f-4fc9-bcc5-6f98fdd581d6"
      },
      "source": [
        "s[0]"
      ],
      "execution_count": 23,
      "outputs": [
        {
          "output_type": "error",
          "ename": "KeyError",
          "evalue": "ignored",
          "traceback": [
            "\u001b[0;31m---------------------------------------------------------------------------\u001b[0m",
            "\u001b[0;31mKeyError\u001b[0m                                  Traceback (most recent call last)",
            "\u001b[0;32m/usr/local/lib/python3.7/dist-packages/pandas/core/indexes/base.py\u001b[0m in \u001b[0;36mget_loc\u001b[0;34m(self, key, method, tolerance)\u001b[0m\n\u001b[1;32m   2897\u001b[0m             \u001b[0;32mtry\u001b[0m\u001b[0;34m:\u001b[0m\u001b[0;34m\u001b[0m\u001b[0;34m\u001b[0m\u001b[0m\n\u001b[0;32m-> 2898\u001b[0;31m                 \u001b[0;32mreturn\u001b[0m \u001b[0mself\u001b[0m\u001b[0;34m.\u001b[0m\u001b[0m_engine\u001b[0m\u001b[0;34m.\u001b[0m\u001b[0mget_loc\u001b[0m\u001b[0;34m(\u001b[0m\u001b[0mcasted_key\u001b[0m\u001b[0;34m)\u001b[0m\u001b[0;34m\u001b[0m\u001b[0;34m\u001b[0m\u001b[0m\n\u001b[0m\u001b[1;32m   2899\u001b[0m             \u001b[0;32mexcept\u001b[0m \u001b[0mKeyError\u001b[0m \u001b[0;32mas\u001b[0m \u001b[0merr\u001b[0m\u001b[0;34m:\u001b[0m\u001b[0;34m\u001b[0m\u001b[0;34m\u001b[0m\u001b[0m\n",
            "\u001b[0;32mpandas/_libs/index.pyx\u001b[0m in \u001b[0;36mpandas._libs.index.IndexEngine.get_loc\u001b[0;34m()\u001b[0m\n",
            "\u001b[0;32mpandas/_libs/index.pyx\u001b[0m in \u001b[0;36mpandas._libs.index.IndexEngine.get_loc\u001b[0;34m()\u001b[0m\n",
            "\u001b[0;32mpandas/_libs/hashtable_class_helper.pxi\u001b[0m in \u001b[0;36mpandas._libs.hashtable.Int64HashTable.get_item\u001b[0;34m()\u001b[0m\n",
            "\u001b[0;32mpandas/_libs/hashtable_class_helper.pxi\u001b[0m in \u001b[0;36mpandas._libs.hashtable.Int64HashTable.get_item\u001b[0;34m()\u001b[0m\n",
            "\u001b[0;31mKeyError\u001b[0m: 0",
            "\nThe above exception was the direct cause of the following exception:\n",
            "\u001b[0;31mKeyError\u001b[0m                                  Traceback (most recent call last)",
            "\u001b[0;32m<ipython-input-23-c9c96910e542>\u001b[0m in \u001b[0;36m<module>\u001b[0;34m()\u001b[0m\n\u001b[0;32m----> 1\u001b[0;31m \u001b[0ms\u001b[0m\u001b[0;34m[\u001b[0m\u001b[0;36m0\u001b[0m\u001b[0;34m]\u001b[0m\u001b[0;34m\u001b[0m\u001b[0;34m\u001b[0m\u001b[0m\n\u001b[0m",
            "\u001b[0;32m/usr/local/lib/python3.7/dist-packages/pandas/core/series.py\u001b[0m in \u001b[0;36m__getitem__\u001b[0;34m(self, key)\u001b[0m\n\u001b[1;32m    880\u001b[0m \u001b[0;34m\u001b[0m\u001b[0m\n\u001b[1;32m    881\u001b[0m         \u001b[0;32melif\u001b[0m \u001b[0mkey_is_scalar\u001b[0m\u001b[0;34m:\u001b[0m\u001b[0;34m\u001b[0m\u001b[0;34m\u001b[0m\u001b[0m\n\u001b[0;32m--> 882\u001b[0;31m             \u001b[0;32mreturn\u001b[0m \u001b[0mself\u001b[0m\u001b[0;34m.\u001b[0m\u001b[0m_get_value\u001b[0m\u001b[0;34m(\u001b[0m\u001b[0mkey\u001b[0m\u001b[0;34m)\u001b[0m\u001b[0;34m\u001b[0m\u001b[0;34m\u001b[0m\u001b[0m\n\u001b[0m\u001b[1;32m    883\u001b[0m \u001b[0;34m\u001b[0m\u001b[0m\n\u001b[1;32m    884\u001b[0m         \u001b[0;32mif\u001b[0m \u001b[0mis_hashable\u001b[0m\u001b[0;34m(\u001b[0m\u001b[0mkey\u001b[0m\u001b[0;34m)\u001b[0m\u001b[0;34m:\u001b[0m\u001b[0;34m\u001b[0m\u001b[0;34m\u001b[0m\u001b[0m\n",
            "\u001b[0;32m/usr/local/lib/python3.7/dist-packages/pandas/core/series.py\u001b[0m in \u001b[0;36m_get_value\u001b[0;34m(self, label, takeable)\u001b[0m\n\u001b[1;32m    988\u001b[0m \u001b[0;34m\u001b[0m\u001b[0m\n\u001b[1;32m    989\u001b[0m         \u001b[0;31m# Similar to Index.get_value, but we do not fall back to positional\u001b[0m\u001b[0;34m\u001b[0m\u001b[0;34m\u001b[0m\u001b[0;34m\u001b[0m\u001b[0m\n\u001b[0;32m--> 990\u001b[0;31m         \u001b[0mloc\u001b[0m \u001b[0;34m=\u001b[0m \u001b[0mself\u001b[0m\u001b[0;34m.\u001b[0m\u001b[0mindex\u001b[0m\u001b[0;34m.\u001b[0m\u001b[0mget_loc\u001b[0m\u001b[0;34m(\u001b[0m\u001b[0mlabel\u001b[0m\u001b[0;34m)\u001b[0m\u001b[0;34m\u001b[0m\u001b[0;34m\u001b[0m\u001b[0m\n\u001b[0m\u001b[1;32m    991\u001b[0m         \u001b[0;32mreturn\u001b[0m \u001b[0mself\u001b[0m\u001b[0;34m.\u001b[0m\u001b[0mindex\u001b[0m\u001b[0;34m.\u001b[0m\u001b[0m_get_values_for_loc\u001b[0m\u001b[0;34m(\u001b[0m\u001b[0mself\u001b[0m\u001b[0;34m,\u001b[0m \u001b[0mloc\u001b[0m\u001b[0;34m,\u001b[0m \u001b[0mlabel\u001b[0m\u001b[0;34m)\u001b[0m\u001b[0;34m\u001b[0m\u001b[0;34m\u001b[0m\u001b[0m\n\u001b[1;32m    992\u001b[0m \u001b[0;34m\u001b[0m\u001b[0m\n",
            "\u001b[0;32m/usr/local/lib/python3.7/dist-packages/pandas/core/indexes/base.py\u001b[0m in \u001b[0;36mget_loc\u001b[0;34m(self, key, method, tolerance)\u001b[0m\n\u001b[1;32m   2898\u001b[0m                 \u001b[0;32mreturn\u001b[0m \u001b[0mself\u001b[0m\u001b[0;34m.\u001b[0m\u001b[0m_engine\u001b[0m\u001b[0;34m.\u001b[0m\u001b[0mget_loc\u001b[0m\u001b[0;34m(\u001b[0m\u001b[0mcasted_key\u001b[0m\u001b[0;34m)\u001b[0m\u001b[0;34m\u001b[0m\u001b[0;34m\u001b[0m\u001b[0m\n\u001b[1;32m   2899\u001b[0m             \u001b[0;32mexcept\u001b[0m \u001b[0mKeyError\u001b[0m \u001b[0;32mas\u001b[0m \u001b[0merr\u001b[0m\u001b[0;34m:\u001b[0m\u001b[0;34m\u001b[0m\u001b[0;34m\u001b[0m\u001b[0m\n\u001b[0;32m-> 2900\u001b[0;31m                 \u001b[0;32mraise\u001b[0m \u001b[0mKeyError\u001b[0m\u001b[0;34m(\u001b[0m\u001b[0mkey\u001b[0m\u001b[0;34m)\u001b[0m \u001b[0;32mfrom\u001b[0m \u001b[0merr\u001b[0m\u001b[0;34m\u001b[0m\u001b[0;34m\u001b[0m\u001b[0m\n\u001b[0m\u001b[1;32m   2901\u001b[0m \u001b[0;34m\u001b[0m\u001b[0m\n\u001b[1;32m   2902\u001b[0m         \u001b[0;32mif\u001b[0m \u001b[0mtolerance\u001b[0m \u001b[0;32mis\u001b[0m \u001b[0;32mnot\u001b[0m \u001b[0;32mNone\u001b[0m\u001b[0;34m:\u001b[0m\u001b[0;34m\u001b[0m\u001b[0;34m\u001b[0m\u001b[0m\n",
            "\u001b[0;31mKeyError\u001b[0m: 0"
          ]
        }
      ]
    },
    {
      "cell_type": "code",
      "metadata": {
        "colab": {
          "base_uri": "https://localhost:8080/"
        },
        "id": "hmv41ojAqV7s",
        "outputId": "684e985c-087a-47b5-a59b-1053537cd28a"
      },
      "source": [
        "grades = pd.Series([90, 80, 70, 60])\r\n",
        "\r\n",
        "total = 0\r\n",
        "for grade in grades:\r\n",
        "  total += grade\r\n",
        "\r\n",
        "print(total/len(grades))"
      ],
      "execution_count": 24,
      "outputs": [
        {
          "output_type": "stream",
          "text": [
            "75.0\n"
          ],
          "name": "stdout"
        }
      ]
    },
    {
      "cell_type": "code",
      "metadata": {
        "colab": {
          "base_uri": "https://localhost:8080/"
        },
        "id": "N4a6AzwTqrSl",
        "outputId": "23612956-4ddc-4be1-9bba-bbc2384fcb50"
      },
      "source": [
        "import numpy as np\r\n",
        "\r\n",
        "total = np.sum(grades)\r\n",
        "print(total/len(grades))"
      ],
      "execution_count": 25,
      "outputs": [
        {
          "output_type": "stream",
          "text": [
            "75.0\n"
          ],
          "name": "stdout"
        }
      ]
    },
    {
      "cell_type": "code",
      "metadata": {
        "colab": {
          "base_uri": "https://localhost:8080/"
        },
        "id": "4YRNjVF0q3aB",
        "outputId": "c8665ad8-e562-438b-c38e-912fcc09535d"
      },
      "source": [
        "numbers = pd.Series(np.random.randint(0, 1000, 10000))\r\n",
        "numbers"
      ],
      "execution_count": 27,
      "outputs": [
        {
          "output_type": "execute_result",
          "data": {
            "text/plain": [
              "0       780\n",
              "1       280\n",
              "2       641\n",
              "3       674\n",
              "4       298\n",
              "       ... \n",
              "9995    745\n",
              "9996    981\n",
              "9997    184\n",
              "9998    146\n",
              "9999    186\n",
              "Length: 10000, dtype: int64"
            ]
          },
          "metadata": {
            "tags": []
          },
          "execution_count": 27
        }
      ]
    },
    {
      "cell_type": "code",
      "metadata": {
        "colab": {
          "base_uri": "https://localhost:8080/"
        },
        "id": "Qda49F8UrGWC",
        "outputId": "04d68cae-f6ed-4988-bf08-e5978b5b9bcd"
      },
      "source": [
        "numbers.head() # it gives the first five entries of the Series"
      ],
      "execution_count": 28,
      "outputs": [
        {
          "output_type": "execute_result",
          "data": {
            "text/plain": [
              "0    780\n",
              "1    280\n",
              "2    641\n",
              "3    674\n",
              "4    298\n",
              "dtype: int64"
            ]
          },
          "metadata": {
            "tags": []
          },
          "execution_count": 28
        }
      ]
    },
    {
      "cell_type": "code",
      "metadata": {
        "colab": {
          "base_uri": "https://localhost:8080/"
        },
        "id": "Rus2Q1oMrNrm",
        "outputId": "8f5b7ed6-a1c9-4ce7-95cc-be6c5ca05e17"
      },
      "source": [
        "len(numbers)"
      ],
      "execution_count": 29,
      "outputs": [
        {
          "output_type": "execute_result",
          "data": {
            "text/plain": [
              "10000"
            ]
          },
          "metadata": {
            "tags": []
          },
          "execution_count": 29
        }
      ]
    },
    {
      "cell_type": "code",
      "metadata": {
        "colab": {
          "base_uri": "https://localhost:8080/"
        },
        "id": "F8y513Y9rfXV",
        "outputId": "07f78880-4839-4521-ee8d-ef4b1ae10d5d"
      },
      "source": [
        "%%timeit -n 100\r\n",
        "total = 0\r\n",
        "for number in numbers:\r\n",
        "  total += number\r\n",
        "\r\n",
        "total/len(numbers)"
      ],
      "execution_count": 32,
      "outputs": [
        {
          "output_type": "stream",
          "text": [
            "100 loops, best of 5: 1.27 ms per loop\n"
          ],
          "name": "stdout"
        }
      ]
    },
    {
      "cell_type": "code",
      "metadata": {
        "colab": {
          "base_uri": "https://localhost:8080/"
        },
        "id": "91XFXiSlr_nM",
        "outputId": "5028228a-f8b8-4891-8836-4b45802a30c4"
      },
      "source": [
        "%%timeit -n 100\r\n",
        "total = np.sum(numbers)\r\n",
        "total / len(numbers)"
      ],
      "execution_count": 33,
      "outputs": [
        {
          "output_type": "stream",
          "text": [
            "100 loops, best of 5: 65.9 µs per loop\n"
          ],
          "name": "stdout"
        }
      ]
    },
    {
      "cell_type": "code",
      "metadata": {
        "id": "7Yj3QQ9nsUM_"
      },
      "source": [
        "numbers += 2"
      ],
      "execution_count": 34,
      "outputs": []
    },
    {
      "cell_type": "code",
      "metadata": {
        "colab": {
          "base_uri": "https://localhost:8080/"
        },
        "id": "Fp20dYo0sUjI",
        "outputId": "1ba60cc3-10fb-4cbb-f59c-2f274e2d856f"
      },
      "source": [
        "numbers.head()"
      ],
      "execution_count": 35,
      "outputs": [
        {
          "output_type": "execute_result",
          "data": {
            "text/plain": [
              "0    782\n",
              "1    282\n",
              "2    643\n",
              "3    676\n",
              "4    300\n",
              "dtype: int64"
            ]
          },
          "metadata": {
            "tags": []
          },
          "execution_count": 35
        }
      ]
    },
    {
      "cell_type": "code",
      "metadata": {
        "colab": {
          "base_uri": "https://localhost:8080/",
          "height": 214
        },
        "id": "PvJKscjsseMS",
        "outputId": "93d851ad-8875-4e42-c074-11671077702a"
      },
      "source": [
        "for label, value in numbers.iteritems():\r\n",
        "  numbers.iat(label, value+2)\r\n",
        "\r\n",
        "numbers.head()"
      ],
      "execution_count": 39,
      "outputs": [
        {
          "output_type": "error",
          "ename": "TypeError",
          "evalue": "ignored",
          "traceback": [
            "\u001b[0;31m---------------------------------------------------------------------------\u001b[0m",
            "\u001b[0;31mTypeError\u001b[0m                                 Traceback (most recent call last)",
            "\u001b[0;32m<ipython-input-39-48ae0b92a1f0>\u001b[0m in \u001b[0;36m<module>\u001b[0;34m()\u001b[0m\n\u001b[1;32m      1\u001b[0m \u001b[0;32mfor\u001b[0m \u001b[0mlabel\u001b[0m\u001b[0;34m,\u001b[0m \u001b[0mvalue\u001b[0m \u001b[0;32min\u001b[0m \u001b[0mnumbers\u001b[0m\u001b[0;34m.\u001b[0m\u001b[0miteritems\u001b[0m\u001b[0;34m(\u001b[0m\u001b[0;34m)\u001b[0m\u001b[0;34m:\u001b[0m\u001b[0;34m\u001b[0m\u001b[0;34m\u001b[0m\u001b[0m\n\u001b[0;32m----> 2\u001b[0;31m   \u001b[0mnumbers\u001b[0m\u001b[0;34m.\u001b[0m\u001b[0miat\u001b[0m\u001b[0;34m(\u001b[0m\u001b[0mlabel\u001b[0m\u001b[0;34m,\u001b[0m \u001b[0mvalue\u001b[0m\u001b[0;34m+\u001b[0m\u001b[0;36m2\u001b[0m\u001b[0;34m)\u001b[0m\u001b[0;34m\u001b[0m\u001b[0;34m\u001b[0m\u001b[0m\n\u001b[0m\u001b[1;32m      3\u001b[0m \u001b[0;34m\u001b[0m\u001b[0m\n\u001b[1;32m      4\u001b[0m \u001b[0mnumbers\u001b[0m\u001b[0;34m.\u001b[0m\u001b[0mhead\u001b[0m\u001b[0;34m(\u001b[0m\u001b[0;34m)\u001b[0m\u001b[0;34m\u001b[0m\u001b[0;34m\u001b[0m\u001b[0m\n",
            "\u001b[0;31mTypeError\u001b[0m: '_iAtIndexer' object is not callable"
          ]
        }
      ]
    },
    {
      "cell_type": "code",
      "metadata": {
        "colab": {
          "base_uri": "https://localhost:8080/"
        },
        "id": "di9u5pNgtCc1",
        "outputId": "27194bf8-3aee-4dff-cb50-0c6fc757fd99"
      },
      "source": [
        "%%timeit -n 10\r\n",
        "s = pd.Series(np.random.randint(0, 1000, 1000))\r\n",
        "for label, value in s.iteritems():\r\n",
        "  s.loc[label] = value+2"
      ],
      "execution_count": 40,
      "outputs": [
        {
          "output_type": "stream",
          "text": [
            "10 loops, best of 5: 48.2 ms per loop\n"
          ],
          "name": "stdout"
        }
      ]
    },
    {
      "cell_type": "code",
      "metadata": {
        "colab": {
          "base_uri": "https://localhost:8080/"
        },
        "id": "d6-SMCTotcp9",
        "outputId": "27ec2c60-c841-4ac0-b10d-523b75fbb368"
      },
      "source": [
        "%%timeit -n 10\r\n",
        "s = pd.Series(np.random.randint(0, 1000, 1000))\r\n",
        "s += 2"
      ],
      "execution_count": 41,
      "outputs": [
        {
          "output_type": "stream",
          "text": [
            "10 loops, best of 5: 251 µs per loop\n"
          ],
          "name": "stdout"
        }
      ]
    },
    {
      "cell_type": "code",
      "metadata": {
        "colab": {
          "base_uri": "https://localhost:8080/"
        },
        "id": "znj0DYcattsg",
        "outputId": "daa40f23-01f6-42ac-8f0b-dc0d4461d108"
      },
      "source": [
        "s = pd.Series([1, 2, 3])\r\n",
        "s.loc['History'] = 102\r\n",
        "s"
      ],
      "execution_count": 43,
      "outputs": [
        {
          "output_type": "execute_result",
          "data": {
            "text/plain": [
              "0            1\n",
              "1            2\n",
              "2            3\n",
              "History    102\n",
              "dtype: int64"
            ]
          },
          "metadata": {
            "tags": []
          },
          "execution_count": 43
        }
      ]
    },
    {
      "cell_type": "code",
      "metadata": {
        "colab": {
          "base_uri": "https://localhost:8080/"
        },
        "id": "IdNJwDsTt7Kh",
        "outputId": "320975b7-c5e6-440b-fc85-2cce214cac65"
      },
      "source": [
        "students = pd.Series({\r\n",
        "    'Alice' : 'Physics',\r\n",
        "    'Molly' : 'English',\r\n",
        "    'Jack' : 'Chemistry',\r\n",
        "    'Sam': 'Biology'\r\n",
        "})\r\n",
        "students\r\n"
      ],
      "execution_count": 47,
      "outputs": [
        {
          "output_type": "execute_result",
          "data": {
            "text/plain": [
              "Alice      Physics\n",
              "Molly      English\n",
              "Jack     Chemistry\n",
              "Sam        Biology\n",
              "dtype: object"
            ]
          },
          "metadata": {
            "tags": []
          },
          "execution_count": 47
        }
      ]
    },
    {
      "cell_type": "code",
      "metadata": {
        "colab": {
          "base_uri": "https://localhost:8080/"
        },
        "id": "PYoJNLIQuNWw",
        "outputId": "dbf7f66c-f113-417e-ef98-805257b7bbdd"
      },
      "source": [
        "classes = pd.Series(['Philosophy', 'Arts', 'Math'], index=['Kelly', \"Kelly\", \"Kelly\"])\r\n",
        "classes"
      ],
      "execution_count": 46,
      "outputs": [
        {
          "output_type": "execute_result",
          "data": {
            "text/plain": [
              "Kelly    Philosophy\n",
              "Kelly          Arts\n",
              "Kelly          Math\n",
              "dtype: object"
            ]
          },
          "metadata": {
            "tags": []
          },
          "execution_count": 46
        }
      ]
    },
    {
      "cell_type": "code",
      "metadata": {
        "colab": {
          "base_uri": "https://localhost:8080/"
        },
        "id": "qkpy32gMucox",
        "outputId": "3e586fba-6ea7-4793-c771-d6b8b77335da"
      },
      "source": [
        "all_students = students.append(classes)\r\n",
        "all_students"
      ],
      "execution_count": 50,
      "outputs": [
        {
          "output_type": "execute_result",
          "data": {
            "text/plain": [
              "Alice       Physics\n",
              "Molly       English\n",
              "Jack      Chemistry\n",
              "Sam         Biology\n",
              "Kelly    Philosophy\n",
              "Kelly          Arts\n",
              "Kelly          Math\n",
              "dtype: object"
            ]
          },
          "metadata": {
            "tags": []
          },
          "execution_count": 50
        }
      ]
    },
    {
      "cell_type": "code",
      "metadata": {
        "colab": {
          "base_uri": "https://localhost:8080/"
        },
        "id": "BtWTwfn3uyF3",
        "outputId": "906acd12-50d3-4f82-f9f8-d1a39f50f45b"
      },
      "source": [
        "all_students.loc['Kelly']"
      ],
      "execution_count": 51,
      "outputs": [
        {
          "output_type": "execute_result",
          "data": {
            "text/plain": [
              "Kelly    Philosophy\n",
              "Kelly          Arts\n",
              "Kelly          Math\n",
              "dtype: object"
            ]
          },
          "metadata": {
            "tags": []
          },
          "execution_count": 51
        }
      ]
    },
    {
      "cell_type": "markdown",
      "metadata": {
        "id": "bLeZV_aX5vuQ"
      },
      "source": [
        "##**Data Frame**"
      ]
    },
    {
      "cell_type": "code",
      "metadata": {
        "id": "t25Kdq1l54BH"
      },
      "source": [
        "record1 = pd.Series({\r\n",
        "    'Name' : 'Alice',\r\n",
        "    'Class' : 'Physics',\r\n",
        "    'Score' : 90\r\n",
        "})\r\n",
        "record2 = pd.Series({\r\n",
        "    'Name' : 'Jack',\r\n",
        "    'Class' : 'Chemistry',\r\n",
        "    'Score' : 95\r\n",
        "})\r\n",
        "record3 = pd.Series({\r\n",
        "    'Name' : 'Helen',\r\n",
        "    'Class' : 'Biology',\r\n",
        "    'Score' : 85\r\n",
        "})"
      ],
      "execution_count": 53,
      "outputs": []
    },
    {
      "cell_type": "code",
      "metadata": {
        "colab": {
          "base_uri": "https://localhost:8080/",
          "height": 142
        },
        "id": "_vA5iWF06ncf",
        "outputId": "0ea9d9fc-953f-40b1-b418-87a41f1c00b7"
      },
      "source": [
        "df = pd.DataFrame([record1, record2, record3], index=['School1', 'School2', 'School3'])\r\n",
        "df.head()"
      ],
      "execution_count": 56,
      "outputs": [
        {
          "output_type": "execute_result",
          "data": {
            "text/html": [
              "<div>\n",
              "<style scoped>\n",
              "    .dataframe tbody tr th:only-of-type {\n",
              "        vertical-align: middle;\n",
              "    }\n",
              "\n",
              "    .dataframe tbody tr th {\n",
              "        vertical-align: top;\n",
              "    }\n",
              "\n",
              "    .dataframe thead th {\n",
              "        text-align: right;\n",
              "    }\n",
              "</style>\n",
              "<table border=\"1\" class=\"dataframe\">\n",
              "  <thead>\n",
              "    <tr style=\"text-align: right;\">\n",
              "      <th></th>\n",
              "      <th>Name</th>\n",
              "      <th>Class</th>\n",
              "      <th>Score</th>\n",
              "    </tr>\n",
              "  </thead>\n",
              "  <tbody>\n",
              "    <tr>\n",
              "      <th>School1</th>\n",
              "      <td>Alice</td>\n",
              "      <td>Physics</td>\n",
              "      <td>90</td>\n",
              "    </tr>\n",
              "    <tr>\n",
              "      <th>School2</th>\n",
              "      <td>Jack</td>\n",
              "      <td>Chemistry</td>\n",
              "      <td>95</td>\n",
              "    </tr>\n",
              "    <tr>\n",
              "      <th>School3</th>\n",
              "      <td>Helen</td>\n",
              "      <td>Biology</td>\n",
              "      <td>85</td>\n",
              "    </tr>\n",
              "  </tbody>\n",
              "</table>\n",
              "</div>"
            ],
            "text/plain": [
              "          Name      Class  Score\n",
              "School1  Alice    Physics     90\n",
              "School2   Jack  Chemistry     95\n",
              "School3  Helen    Biology     85"
            ]
          },
          "metadata": {
            "tags": []
          },
          "execution_count": 56
        }
      ]
    },
    {
      "cell_type": "code",
      "metadata": {
        "colab": {
          "base_uri": "https://localhost:8080/",
          "height": 142
        },
        "id": "VRXJqyup7Ee9",
        "outputId": "98816e46-c7be-49e4-9bc7-8e486c5f3a74"
      },
      "source": [
        "students = [{\r\n",
        "    'Name' : 'Alice',\r\n",
        "    'Class' : 'Physics',\r\n",
        "    'Score' : 90},\r\n",
        "    {'Name' : 'Helen',\r\n",
        "    'Class' : 'Biology',\r\n",
        "    'Score' : 85},\r\n",
        "    {\r\n",
        "    'Name' : 'Jack',\r\n",
        "    'Class' : 'Chemistry',\r\n",
        "    'Score' : 95}]\r\n",
        "df = pd.DataFrame(students, index=['School1', 'School1', 'School3'])\r\n",
        "df\r\n"
      ],
      "execution_count": 64,
      "outputs": [
        {
          "output_type": "execute_result",
          "data": {
            "text/html": [
              "<div>\n",
              "<style scoped>\n",
              "    .dataframe tbody tr th:only-of-type {\n",
              "        vertical-align: middle;\n",
              "    }\n",
              "\n",
              "    .dataframe tbody tr th {\n",
              "        vertical-align: top;\n",
              "    }\n",
              "\n",
              "    .dataframe thead th {\n",
              "        text-align: right;\n",
              "    }\n",
              "</style>\n",
              "<table border=\"1\" class=\"dataframe\">\n",
              "  <thead>\n",
              "    <tr style=\"text-align: right;\">\n",
              "      <th></th>\n",
              "      <th>Name</th>\n",
              "      <th>Class</th>\n",
              "      <th>Score</th>\n",
              "    </tr>\n",
              "  </thead>\n",
              "  <tbody>\n",
              "    <tr>\n",
              "      <th>School1</th>\n",
              "      <td>Alice</td>\n",
              "      <td>Physics</td>\n",
              "      <td>90</td>\n",
              "    </tr>\n",
              "    <tr>\n",
              "      <th>School1</th>\n",
              "      <td>Helen</td>\n",
              "      <td>Biology</td>\n",
              "      <td>85</td>\n",
              "    </tr>\n",
              "    <tr>\n",
              "      <th>School3</th>\n",
              "      <td>Jack</td>\n",
              "      <td>Chemistry</td>\n",
              "      <td>95</td>\n",
              "    </tr>\n",
              "  </tbody>\n",
              "</table>\n",
              "</div>"
            ],
            "text/plain": [
              "          Name      Class  Score\n",
              "School1  Alice    Physics     90\n",
              "School1  Helen    Biology     85\n",
              "School3   Jack  Chemistry     95"
            ]
          },
          "metadata": {
            "tags": []
          },
          "execution_count": 64
        }
      ]
    },
    {
      "cell_type": "code",
      "metadata": {
        "colab": {
          "base_uri": "https://localhost:8080/"
        },
        "id": "a7TRPnCF7hOx",
        "outputId": "c05ea218-1e21-49d3-a4ce-47fcf1510d07"
      },
      "source": [
        "df.loc['School2']"
      ],
      "execution_count": 59,
      "outputs": [
        {
          "output_type": "execute_result",
          "data": {
            "text/plain": [
              "Name       Helen\n",
              "Class    Biology\n",
              "Score         85\n",
              "Name: School2, dtype: object"
            ]
          },
          "metadata": {
            "tags": []
          },
          "execution_count": 59
        }
      ]
    },
    {
      "cell_type": "code",
      "metadata": {
        "colab": {
          "base_uri": "https://localhost:8080/"
        },
        "id": "Dj1b88zJ7jUx",
        "outputId": "f31acd52-5e2f-4b3a-ad3d-b97a3c41e767"
      },
      "source": [
        "type(df.loc['School2'])"
      ],
      "execution_count": 60,
      "outputs": [
        {
          "output_type": "execute_result",
          "data": {
            "text/plain": [
              "pandas.core.series.Series"
            ]
          },
          "metadata": {
            "tags": []
          },
          "execution_count": 60
        }
      ]
    },
    {
      "cell_type": "code",
      "metadata": {
        "colab": {
          "base_uri": "https://localhost:8080/",
          "height": 111
        },
        "id": "5Tx3ACG-7pBc",
        "outputId": "ada699c6-e34b-44d4-b926-7095306f5322"
      },
      "source": [
        "df.loc['School1']"
      ],
      "execution_count": 65,
      "outputs": [
        {
          "output_type": "execute_result",
          "data": {
            "text/html": [
              "<div>\n",
              "<style scoped>\n",
              "    .dataframe tbody tr th:only-of-type {\n",
              "        vertical-align: middle;\n",
              "    }\n",
              "\n",
              "    .dataframe tbody tr th {\n",
              "        vertical-align: top;\n",
              "    }\n",
              "\n",
              "    .dataframe thead th {\n",
              "        text-align: right;\n",
              "    }\n",
              "</style>\n",
              "<table border=\"1\" class=\"dataframe\">\n",
              "  <thead>\n",
              "    <tr style=\"text-align: right;\">\n",
              "      <th></th>\n",
              "      <th>Name</th>\n",
              "      <th>Class</th>\n",
              "      <th>Score</th>\n",
              "    </tr>\n",
              "  </thead>\n",
              "  <tbody>\n",
              "    <tr>\n",
              "      <th>School1</th>\n",
              "      <td>Alice</td>\n",
              "      <td>Physics</td>\n",
              "      <td>90</td>\n",
              "    </tr>\n",
              "    <tr>\n",
              "      <th>School1</th>\n",
              "      <td>Helen</td>\n",
              "      <td>Biology</td>\n",
              "      <td>85</td>\n",
              "    </tr>\n",
              "  </tbody>\n",
              "</table>\n",
              "</div>"
            ],
            "text/plain": [
              "          Name    Class  Score\n",
              "School1  Alice  Physics     90\n",
              "School1  Helen  Biology     85"
            ]
          },
          "metadata": {
            "tags": []
          },
          "execution_count": 65
        }
      ]
    },
    {
      "cell_type": "code",
      "metadata": {
        "colab": {
          "base_uri": "https://localhost:8080/"
        },
        "id": "YXa8iC0l8J-z",
        "outputId": "129e4bef-db66-416a-d33f-6a0d738f9231"
      },
      "source": [
        "\r\n",
        "type(df.loc['School1'])"
      ],
      "execution_count": 66,
      "outputs": [
        {
          "output_type": "execute_result",
          "data": {
            "text/plain": [
              "pandas.core.frame.DataFrame"
            ]
          },
          "metadata": {
            "tags": []
          },
          "execution_count": 66
        }
      ]
    },
    {
      "cell_type": "markdown",
      "metadata": {
        "id": "68K2wVpO8aNQ"
      },
      "source": [
        "If there are duplicates in a data frame then the type shown is ```pandas.core.frame.DataFrame``` but if all data is unique then it show ```pandas.core.series.Series```"
      ]
    },
    {
      "cell_type": "code",
      "metadata": {
        "colab": {
          "base_uri": "https://localhost:8080/"
        },
        "id": "kLNYm3fU8mWj",
        "outputId": "a179e685-c6e6-4679-81b3-4ba732588491"
      },
      "source": [
        "df.loc['Name']"
      ],
      "execution_count": 67,
      "outputs": [
        {
          "output_type": "execute_result",
          "data": {
            "text/plain": [
              "School1    Alice\n",
              "School1    Helen\n",
              "Name: Name, dtype: object"
            ]
          },
          "metadata": {
            "tags": []
          },
          "execution_count": 67
        }
      ]
    },
    {
      "cell_type": "code",
      "metadata": {
        "colab": {
          "base_uri": "https://localhost:8080/",
          "height": 142
        },
        "id": "AUMTy_8E89ra",
        "outputId": "b04f7ad4-3283-40e6-dfae-90302c719bf8"
      },
      "source": [
        "#transpose of the dataFrame \r\n",
        "df.T"
      ],
      "execution_count": 69,
      "outputs": [
        {
          "output_type": "execute_result",
          "data": {
            "text/html": [
              "<div>\n",
              "<style scoped>\n",
              "    .dataframe tbody tr th:only-of-type {\n",
              "        vertical-align: middle;\n",
              "    }\n",
              "\n",
              "    .dataframe tbody tr th {\n",
              "        vertical-align: top;\n",
              "    }\n",
              "\n",
              "    .dataframe thead th {\n",
              "        text-align: right;\n",
              "    }\n",
              "</style>\n",
              "<table border=\"1\" class=\"dataframe\">\n",
              "  <thead>\n",
              "    <tr style=\"text-align: right;\">\n",
              "      <th></th>\n",
              "      <th>School1</th>\n",
              "      <th>School1</th>\n",
              "      <th>School3</th>\n",
              "    </tr>\n",
              "  </thead>\n",
              "  <tbody>\n",
              "    <tr>\n",
              "      <th>Name</th>\n",
              "      <td>Alice</td>\n",
              "      <td>Helen</td>\n",
              "      <td>Jack</td>\n",
              "    </tr>\n",
              "    <tr>\n",
              "      <th>Class</th>\n",
              "      <td>Physics</td>\n",
              "      <td>Biology</td>\n",
              "      <td>Chemistry</td>\n",
              "    </tr>\n",
              "    <tr>\n",
              "      <th>Score</th>\n",
              "      <td>90</td>\n",
              "      <td>85</td>\n",
              "      <td>95</td>\n",
              "    </tr>\n",
              "  </tbody>\n",
              "</table>\n",
              "</div>"
            ],
            "text/plain": [
              "       School1  School1    School3\n",
              "Name     Alice    Helen       Jack\n",
              "Class  Physics  Biology  Chemistry\n",
              "Score       90       85         95"
            ]
          },
          "metadata": {
            "tags": []
          },
          "execution_count": 69
        }
      ]
    },
    {
      "cell_type": "code",
      "metadata": {
        "colab": {
          "base_uri": "https://localhost:8080/"
        },
        "id": "ZHYpfG4N81kb",
        "outputId": "93a16980-e8a4-4392-9345-f131bd8a23aa"
      },
      "source": [
        "df.T.loc[\"Name\"]"
      ],
      "execution_count": 68,
      "outputs": [
        {
          "output_type": "execute_result",
          "data": {
            "text/plain": [
              "School1    Alice\n",
              "School1    Helen\n",
              "School3     Jack\n",
              "Name: Name, dtype: object"
            ]
          },
          "metadata": {
            "tags": []
          },
          "execution_count": 68
        }
      ]
    },
    {
      "cell_type": "code",
      "metadata": {
        "colab": {
          "base_uri": "https://localhost:8080/"
        },
        "id": "lb1pQHnc9B7P",
        "outputId": "a8663b0d-1276-46cc-e979-f7a913244e64"
      },
      "source": [
        "df['Name']"
      ],
      "execution_count": 70,
      "outputs": [
        {
          "output_type": "execute_result",
          "data": {
            "text/plain": [
              "School1    Alice\n",
              "School1    Helen\n",
              "School3     Jack\n",
              "Name: Name, dtype: object"
            ]
          },
          "metadata": {
            "tags": []
          },
          "execution_count": 70
        }
      ]
    },
    {
      "cell_type": "code",
      "metadata": {
        "colab": {
          "base_uri": "https://localhost:8080/"
        },
        "id": "mzhgntAF9Ejr",
        "outputId": "6f924c81-2e51-44f0-c5ff-1c9b0be57e05"
      },
      "source": [
        "df.loc['School1']['Name']"
      ],
      "execution_count": 71,
      "outputs": [
        {
          "output_type": "execute_result",
          "data": {
            "text/plain": [
              "School1    Alice\n",
              "School1    Helen\n",
              "Name: Name, dtype: object"
            ]
          },
          "metadata": {
            "tags": []
          },
          "execution_count": 71
        }
      ]
    },
    {
      "cell_type": "code",
      "metadata": {
        "colab": {
          "base_uri": "https://localhost:8080/"
        },
        "id": "ZakGTJJZ9S9P",
        "outputId": "99f19a75-0dff-4253-ceb2-cc3e25118bfd"
      },
      "source": [
        "print(type(df.loc['School1']))\r\n",
        "print(type(df.loc['School1']['Name']))"
      ],
      "execution_count": 72,
      "outputs": [
        {
          "output_type": "stream",
          "text": [
            "<class 'pandas.core.frame.DataFrame'>\n",
            "<class 'pandas.core.series.Series'>\n"
          ],
          "name": "stdout"
        }
      ]
    },
    {
      "cell_type": "code",
      "metadata": {
        "colab": {
          "base_uri": "https://localhost:8080/",
          "height": 142
        },
        "id": "ACtJFqWc9m45",
        "outputId": "6bfed82e-e397-47f5-d7c1-efa0522b8fb1"
      },
      "source": [
        "df.loc[:,['Name', 'Score']]"
      ],
      "execution_count": 75,
      "outputs": [
        {
          "output_type": "execute_result",
          "data": {
            "text/html": [
              "<div>\n",
              "<style scoped>\n",
              "    .dataframe tbody tr th:only-of-type {\n",
              "        vertical-align: middle;\n",
              "    }\n",
              "\n",
              "    .dataframe tbody tr th {\n",
              "        vertical-align: top;\n",
              "    }\n",
              "\n",
              "    .dataframe thead th {\n",
              "        text-align: right;\n",
              "    }\n",
              "</style>\n",
              "<table border=\"1\" class=\"dataframe\">\n",
              "  <thead>\n",
              "    <tr style=\"text-align: right;\">\n",
              "      <th></th>\n",
              "      <th>Name</th>\n",
              "      <th>Score</th>\n",
              "    </tr>\n",
              "  </thead>\n",
              "  <tbody>\n",
              "    <tr>\n",
              "      <th>School1</th>\n",
              "      <td>Alice</td>\n",
              "      <td>90</td>\n",
              "    </tr>\n",
              "    <tr>\n",
              "      <th>School1</th>\n",
              "      <td>Helen</td>\n",
              "      <td>85</td>\n",
              "    </tr>\n",
              "    <tr>\n",
              "      <th>School3</th>\n",
              "      <td>Jack</td>\n",
              "      <td>95</td>\n",
              "    </tr>\n",
              "  </tbody>\n",
              "</table>\n",
              "</div>"
            ],
            "text/plain": [
              "          Name  Score\n",
              "School1  Alice     90\n",
              "School1  Helen     85\n",
              "School3   Jack     95"
            ]
          },
          "metadata": {
            "tags": []
          },
          "execution_count": 75
        }
      ]
    },
    {
      "cell_type": "code",
      "metadata": {
        "colab": {
          "base_uri": "https://localhost:8080/",
          "height": 80
        },
        "id": "4lDCZhWI9w32",
        "outputId": "ea73a807-174b-401a-cace-f614003d063a"
      },
      "source": [
        "df.drop('School1')"
      ],
      "execution_count": 77,
      "outputs": [
        {
          "output_type": "execute_result",
          "data": {
            "text/html": [
              "<div>\n",
              "<style scoped>\n",
              "    .dataframe tbody tr th:only-of-type {\n",
              "        vertical-align: middle;\n",
              "    }\n",
              "\n",
              "    .dataframe tbody tr th {\n",
              "        vertical-align: top;\n",
              "    }\n",
              "\n",
              "    .dataframe thead th {\n",
              "        text-align: right;\n",
              "    }\n",
              "</style>\n",
              "<table border=\"1\" class=\"dataframe\">\n",
              "  <thead>\n",
              "    <tr style=\"text-align: right;\">\n",
              "      <th></th>\n",
              "      <th>Name</th>\n",
              "      <th>Class</th>\n",
              "      <th>Score</th>\n",
              "    </tr>\n",
              "  </thead>\n",
              "  <tbody>\n",
              "    <tr>\n",
              "      <th>School3</th>\n",
              "      <td>Jack</td>\n",
              "      <td>Chemistry</td>\n",
              "      <td>95</td>\n",
              "    </tr>\n",
              "  </tbody>\n",
              "</table>\n",
              "</div>"
            ],
            "text/plain": [
              "         Name      Class  Score\n",
              "School3  Jack  Chemistry     95"
            ]
          },
          "metadata": {
            "tags": []
          },
          "execution_count": 77
        }
      ]
    },
    {
      "cell_type": "code",
      "metadata": {
        "colab": {
          "base_uri": "https://localhost:8080/",
          "height": 142
        },
        "id": "1AwKhc-Q-AjK",
        "outputId": "11456e55-97da-4059-ce4a-5d2975d51a06"
      },
      "source": [
        "df"
      ],
      "execution_count": 78,
      "outputs": [
        {
          "output_type": "execute_result",
          "data": {
            "text/html": [
              "<div>\n",
              "<style scoped>\n",
              "    .dataframe tbody tr th:only-of-type {\n",
              "        vertical-align: middle;\n",
              "    }\n",
              "\n",
              "    .dataframe tbody tr th {\n",
              "        vertical-align: top;\n",
              "    }\n",
              "\n",
              "    .dataframe thead th {\n",
              "        text-align: right;\n",
              "    }\n",
              "</style>\n",
              "<table border=\"1\" class=\"dataframe\">\n",
              "  <thead>\n",
              "    <tr style=\"text-align: right;\">\n",
              "      <th></th>\n",
              "      <th>Name</th>\n",
              "      <th>Class</th>\n",
              "      <th>Score</th>\n",
              "    </tr>\n",
              "  </thead>\n",
              "  <tbody>\n",
              "    <tr>\n",
              "      <th>School1</th>\n",
              "      <td>Alice</td>\n",
              "      <td>Physics</td>\n",
              "      <td>90</td>\n",
              "    </tr>\n",
              "    <tr>\n",
              "      <th>School1</th>\n",
              "      <td>Helen</td>\n",
              "      <td>Biology</td>\n",
              "      <td>85</td>\n",
              "    </tr>\n",
              "    <tr>\n",
              "      <th>School3</th>\n",
              "      <td>Jack</td>\n",
              "      <td>Chemistry</td>\n",
              "      <td>95</td>\n",
              "    </tr>\n",
              "  </tbody>\n",
              "</table>\n",
              "</div>"
            ],
            "text/plain": [
              "          Name      Class  Score\n",
              "School1  Alice    Physics     90\n",
              "School1  Helen    Biology     85\n",
              "School3   Jack  Chemistry     95"
            ]
          },
          "metadata": {
            "tags": []
          },
          "execution_count": 78
        }
      ]
    },
    {
      "cell_type": "code",
      "metadata": {
        "id": "1m462zp0-Fq4"
      },
      "source": [
        "copy_df = df.copy()"
      ],
      "execution_count": 89,
      "outputs": []
    },
    {
      "cell_type": "code",
      "metadata": {
        "colab": {
          "base_uri": "https://localhost:8080/",
          "height": 142
        },
        "id": "CPc3vIXD-Ir6",
        "outputId": "8057c550-d4d5-4305-d061-5dcc6dda7148"
      },
      "source": [
        "copy_df.drop(\"Name\", inplace=True, axis=1)\r\n",
        "copy_df"
      ],
      "execution_count": 90,
      "outputs": [
        {
          "output_type": "execute_result",
          "data": {
            "text/html": [
              "<div>\n",
              "<style scoped>\n",
              "    .dataframe tbody tr th:only-of-type {\n",
              "        vertical-align: middle;\n",
              "    }\n",
              "\n",
              "    .dataframe tbody tr th {\n",
              "        vertical-align: top;\n",
              "    }\n",
              "\n",
              "    .dataframe thead th {\n",
              "        text-align: right;\n",
              "    }\n",
              "</style>\n",
              "<table border=\"1\" class=\"dataframe\">\n",
              "  <thead>\n",
              "    <tr style=\"text-align: right;\">\n",
              "      <th></th>\n",
              "      <th>Class</th>\n",
              "      <th>Score</th>\n",
              "    </tr>\n",
              "  </thead>\n",
              "  <tbody>\n",
              "    <tr>\n",
              "      <th>School1</th>\n",
              "      <td>Physics</td>\n",
              "      <td>90</td>\n",
              "    </tr>\n",
              "    <tr>\n",
              "      <th>School1</th>\n",
              "      <td>Biology</td>\n",
              "      <td>85</td>\n",
              "    </tr>\n",
              "    <tr>\n",
              "      <th>School3</th>\n",
              "      <td>Chemistry</td>\n",
              "      <td>95</td>\n",
              "    </tr>\n",
              "  </tbody>\n",
              "</table>\n",
              "</div>"
            ],
            "text/plain": [
              "             Class  Score\n",
              "School1    Physics     90\n",
              "School1    Biology     85\n",
              "School3  Chemistry     95"
            ]
          },
          "metadata": {
            "tags": []
          },
          "execution_count": 90
        }
      ]
    },
    {
      "cell_type": "code",
      "metadata": {
        "id": "2mQi1u1j-mxt"
      },
      "source": [
        "del copy_df['Class']"
      ],
      "execution_count": 91,
      "outputs": []
    },
    {
      "cell_type": "code",
      "metadata": {
        "colab": {
          "base_uri": "https://localhost:8080/",
          "height": 142
        },
        "id": "dfBJPcEq-wnB",
        "outputId": "94b7a310-833c-41d4-d40f-24eba3d74b57"
      },
      "source": [
        "copy_df"
      ],
      "execution_count": 93,
      "outputs": [
        {
          "output_type": "execute_result",
          "data": {
            "text/html": [
              "<div>\n",
              "<style scoped>\n",
              "    .dataframe tbody tr th:only-of-type {\n",
              "        vertical-align: middle;\n",
              "    }\n",
              "\n",
              "    .dataframe tbody tr th {\n",
              "        vertical-align: top;\n",
              "    }\n",
              "\n",
              "    .dataframe thead th {\n",
              "        text-align: right;\n",
              "    }\n",
              "</style>\n",
              "<table border=\"1\" class=\"dataframe\">\n",
              "  <thead>\n",
              "    <tr style=\"text-align: right;\">\n",
              "      <th></th>\n",
              "      <th>Score</th>\n",
              "    </tr>\n",
              "  </thead>\n",
              "  <tbody>\n",
              "    <tr>\n",
              "      <th>School1</th>\n",
              "      <td>90</td>\n",
              "    </tr>\n",
              "    <tr>\n",
              "      <th>School1</th>\n",
              "      <td>85</td>\n",
              "    </tr>\n",
              "    <tr>\n",
              "      <th>School3</th>\n",
              "      <td>95</td>\n",
              "    </tr>\n",
              "  </tbody>\n",
              "</table>\n",
              "</div>"
            ],
            "text/plain": [
              "         Score\n",
              "School1     90\n",
              "School1     85\n",
              "School3     95"
            ]
          },
          "metadata": {
            "tags": []
          },
          "execution_count": 93
        }
      ]
    },
    {
      "cell_type": "code",
      "metadata": {
        "colab": {
          "base_uri": "https://localhost:8080/",
          "height": 142
        },
        "id": "zme4L7V6-0uM",
        "outputId": "0c87430a-6d73-4dcf-fbc3-102885ae9724"
      },
      "source": [
        "df['Class Ranking'] = None\r\n",
        "df"
      ],
      "execution_count": 94,
      "outputs": [
        {
          "output_type": "execute_result",
          "data": {
            "text/html": [
              "<div>\n",
              "<style scoped>\n",
              "    .dataframe tbody tr th:only-of-type {\n",
              "        vertical-align: middle;\n",
              "    }\n",
              "\n",
              "    .dataframe tbody tr th {\n",
              "        vertical-align: top;\n",
              "    }\n",
              "\n",
              "    .dataframe thead th {\n",
              "        text-align: right;\n",
              "    }\n",
              "</style>\n",
              "<table border=\"1\" class=\"dataframe\">\n",
              "  <thead>\n",
              "    <tr style=\"text-align: right;\">\n",
              "      <th></th>\n",
              "      <th>Name</th>\n",
              "      <th>Class</th>\n",
              "      <th>Score</th>\n",
              "      <th>Class Ranking</th>\n",
              "    </tr>\n",
              "  </thead>\n",
              "  <tbody>\n",
              "    <tr>\n",
              "      <th>School1</th>\n",
              "      <td>Alice</td>\n",
              "      <td>Physics</td>\n",
              "      <td>90</td>\n",
              "      <td>None</td>\n",
              "    </tr>\n",
              "    <tr>\n",
              "      <th>School1</th>\n",
              "      <td>Helen</td>\n",
              "      <td>Biology</td>\n",
              "      <td>85</td>\n",
              "      <td>None</td>\n",
              "    </tr>\n",
              "    <tr>\n",
              "      <th>School3</th>\n",
              "      <td>Jack</td>\n",
              "      <td>Chemistry</td>\n",
              "      <td>95</td>\n",
              "      <td>None</td>\n",
              "    </tr>\n",
              "  </tbody>\n",
              "</table>\n",
              "</div>"
            ],
            "text/plain": [
              "          Name      Class  Score Class Ranking\n",
              "School1  Alice    Physics     90          None\n",
              "School1  Helen    Biology     85          None\n",
              "School3   Jack  Chemistry     95          None"
            ]
          },
          "metadata": {
            "tags": []
          },
          "execution_count": 94
        }
      ]
    },
    {
      "cell_type": "markdown",
      "metadata": {
        "id": "lbmAFY1t_bGK"
      },
      "source": [
        "##**Indexing and Loading**"
      ]
    },
    {
      "cell_type": "code",
      "metadata": {
        "colab": {
          "base_uri": "https://localhost:8080/"
        },
        "id": "znwh9ux0_Ag4",
        "outputId": "695ac7d7-2f11-4003-8d8b-b26963f70fe7"
      },
      "source": [
        "!cat Admission_Predict.csv\r\n"
      ],
      "execution_count": 95,
      "outputs": [
        {
          "output_type": "stream",
          "text": [
            "Serial No.,GRE Score,TOEFL Score,University Rating,SOP,LOR ,CGPA,Research,Chance of Admit \r\n",
            "1,337,118,4,4.5,4.5,9.65,1,0.92\r\n",
            "2,324,107,4,4,4.5,8.87,1,0.76\r\n",
            "3,316,104,3,3,3.5,8,1,0.72\r\n",
            "4,322,110,3,3.5,2.5,8.67,1,0.8\r\n",
            "5,314,103,2,2,3,8.21,0,0.65\r\n",
            "6,330,115,5,4.5,3,9.34,1,0.9\r\n",
            "7,321,109,3,3,4,8.2,1,0.75\r\n",
            "8,308,101,2,3,4,7.9,0,0.68\r\n",
            "9,302,102,1,2,1.5,8,0,0.5\r\n",
            "10,323,108,3,3.5,3,8.6,0,0.45\r\n",
            "11,325,106,3,3.5,4,8.4,1,0.52\r\n",
            "12,327,111,4,4,4.5,9,1,0.84\r\n",
            "13,328,112,4,4,4.5,9.1,1,0.78\r\n",
            "14,307,109,3,4,3,8,1,0.62\r\n",
            "15,311,104,3,3.5,2,8.2,1,0.61\r\n",
            "16,314,105,3,3.5,2.5,8.3,0,0.54\r\n",
            "17,317,107,3,4,3,8.7,0,0.66\r\n",
            "18,319,106,3,4,3,8,1,0.65\r\n",
            "19,318,110,3,4,3,8.8,0,0.63\r\n",
            "20,303,102,3,3.5,3,8.5,0,0.62\r\n",
            "21,312,107,3,3,2,7.9,1,0.64\r\n",
            "22,325,114,4,3,2,8.4,0,0.7\r\n",
            "23,328,116,5,5,5,9.5,1,0.94\r\n",
            "24,334,119,5,5,4.5,9.7,1,0.95\r\n",
            "25,336,119,5,4,3.5,9.8,1,0.97\r\n",
            "26,340,120,5,4.5,4.5,9.6,1,0.94\r\n",
            "27,322,109,5,4.5,3.5,8.8,0,0.76\r\n",
            "28,298,98,2,1.5,2.5,7.5,1,0.44\r\n",
            "29,295,93,1,2,2,7.2,0,0.46\r\n",
            "30,310,99,2,1.5,2,7.3,0,0.54\r\n",
            "31,300,97,2,3,3,8.1,1,0.65\r\n",
            "32,327,103,3,4,4,8.3,1,0.74\r\n",
            "33,338,118,4,3,4.5,9.4,1,0.91\r\n",
            "34,340,114,5,4,4,9.6,1,0.9\r\n",
            "35,331,112,5,4,5,9.8,1,0.94\r\n",
            "36,320,110,5,5,5,9.2,1,0.88\r\n",
            "37,299,106,2,4,4,8.4,0,0.64\r\n",
            "38,300,105,1,1,2,7.8,0,0.58\r\n",
            "39,304,105,1,3,1.5,7.5,0,0.52\r\n",
            "40,307,108,2,4,3.5,7.7,0,0.48\r\n",
            "41,308,110,3,3.5,3,8,1,0.46\r\n",
            "42,316,105,2,2.5,2.5,8.2,1,0.49\r\n",
            "43,313,107,2,2.5,2,8.5,1,0.53\r\n",
            "44,332,117,4,4.5,4,9.1,0,0.87\r\n",
            "45,326,113,5,4.5,4,9.4,1,0.91\r\n",
            "46,322,110,5,5,4,9.1,1,0.88\r\n",
            "47,329,114,5,4,5,9.3,1,0.86\r\n",
            "48,339,119,5,4.5,4,9.7,0,0.89\r\n",
            "49,321,110,3,3.5,5,8.85,1,0.82\r\n",
            "50,327,111,4,3,4,8.4,1,0.78\r\n",
            "51,313,98,3,2.5,4.5,8.3,1,0.76\r\n",
            "52,312,100,2,1.5,3.5,7.9,1,0.56\r\n",
            "53,334,116,4,4,3,8,1,0.78\r\n",
            "54,324,112,4,4,2.5,8.1,1,0.72\r\n",
            "55,322,110,3,3,3.5,8,0,0.7\r\n",
            "56,320,103,3,3,3,7.7,0,0.64\r\n",
            "57,316,102,3,2,3,7.4,0,0.64\r\n",
            "58,298,99,2,4,2,7.6,0,0.46\r\n",
            "59,300,99,1,3,2,6.8,1,0.36\r\n",
            "60,311,104,2,2,2,8.3,0,0.42\r\n",
            "61,309,100,2,3,3,8.1,0,0.48\r\n",
            "62,307,101,3,4,3,8.2,0,0.47\r\n",
            "63,304,105,2,3,3,8.2,1,0.54\r\n",
            "64,315,107,2,4,3,8.5,1,0.56\r\n",
            "65,325,111,3,3,3.5,8.7,0,0.52\r\n",
            "66,325,112,4,3.5,3.5,8.92,0,0.55\r\n",
            "67,327,114,3,3,3,9.02,0,0.61\r\n",
            "68,316,107,2,3.5,3.5,8.64,1,0.57\r\n",
            "69,318,109,3,3.5,4,9.22,1,0.68\r\n",
            "70,328,115,4,4.5,4,9.16,1,0.78\r\n",
            "71,332,118,5,5,5,9.64,1,0.94\r\n",
            "72,336,112,5,5,5,9.76,1,0.96\r\n",
            "73,321,111,5,5,5,9.45,1,0.93\r\n",
            "74,314,108,4,4.5,4,9.04,1,0.84\r\n",
            "75,314,106,3,3,5,8.9,0,0.74\r\n",
            "76,329,114,2,2,4,8.56,1,0.72\r\n",
            "77,327,112,3,3,3,8.72,1,0.74\r\n",
            "78,301,99,2,3,2,8.22,0,0.64\r\n",
            "79,296,95,2,3,2,7.54,1,0.44\r\n",
            "80,294,93,1,1.5,2,7.36,0,0.46\r\n",
            "81,312,105,3,2,3,8.02,1,0.5\r\n",
            "82,340,120,4,5,5,9.5,1,0.96\r\n",
            "83,320,110,5,5,4.5,9.22,1,0.92\r\n",
            "84,322,115,5,4,4.5,9.36,1,0.92\r\n",
            "85,340,115,5,4.5,4.5,9.45,1,0.94\r\n",
            "86,319,103,4,4.5,3.5,8.66,0,0.76\r\n",
            "87,315,106,3,4.5,3.5,8.42,0,0.72\r\n",
            "88,317,107,2,3.5,3,8.28,0,0.66\r\n",
            "89,314,108,3,4.5,3.5,8.14,0,0.64\r\n",
            "90,316,109,4,4.5,3.5,8.76,1,0.74\r\n",
            "91,318,106,2,4,4,7.92,1,0.64\r\n",
            "92,299,97,3,5,3.5,7.66,0,0.38\r\n",
            "93,298,98,2,4,3,8.03,0,0.34\r\n",
            "94,301,97,2,3,3,7.88,1,0.44\r\n",
            "95,303,99,3,2,2.5,7.66,0,0.36\r\n",
            "96,304,100,4,1.5,2.5,7.84,0,0.42\r\n",
            "97,306,100,2,3,3,8,0,0.48\r\n",
            "98,331,120,3,4,4,8.96,1,0.86\r\n",
            "99,332,119,4,5,4.5,9.24,1,0.9\r\n",
            "100,323,113,3,4,4,8.88,1,0.79\r\n",
            "101,322,107,3,3.5,3.5,8.46,1,0.71\r\n",
            "102,312,105,2,2.5,3,8.12,0,0.64\r\n",
            "103,314,106,2,4,3.5,8.25,0,0.62\r\n",
            "104,317,104,2,4.5,4,8.47,0,0.57\r\n",
            "105,326,112,3,3.5,3,9.05,1,0.74\r\n",
            "106,316,110,3,4,4.5,8.78,1,0.69\r\n",
            "107,329,111,4,4.5,4.5,9.18,1,0.87\r\n",
            "108,338,117,4,3.5,4.5,9.46,1,0.91\r\n",
            "109,331,116,5,5,5,9.38,1,0.93\r\n",
            "110,304,103,5,5,4,8.64,0,0.68\r\n",
            "111,305,108,5,3,3,8.48,0,0.61\r\n",
            "112,321,109,4,4,4,8.68,1,0.69\r\n",
            "113,301,107,3,3.5,3.5,8.34,1,0.62\r\n",
            "114,320,110,2,4,3.5,8.56,0,0.72\r\n",
            "115,311,105,3,3.5,3,8.45,1,0.59\r\n",
            "116,310,106,4,4.5,4.5,9.04,1,0.66\r\n",
            "117,299,102,3,4,3.5,8.62,0,0.56\r\n",
            "118,290,104,4,2,2.5,7.46,0,0.45\r\n",
            "119,296,99,2,3,3.5,7.28,0,0.47\r\n",
            "120,327,104,5,3,3.5,8.84,1,0.71\r\n",
            "121,335,117,5,5,5,9.56,1,0.94\r\n",
            "122,334,119,5,4.5,4.5,9.48,1,0.94\r\n",
            "123,310,106,4,1.5,2.5,8.36,0,0.57\r\n",
            "124,308,108,3,3.5,3.5,8.22,0,0.61\r\n",
            "125,301,106,4,2.5,3,8.47,0,0.57\r\n",
            "126,300,100,3,2,3,8.66,1,0.64\r\n",
            "127,323,113,3,4,3,9.32,1,0.85\r\n",
            "128,319,112,3,2.5,2,8.71,1,0.78\r\n",
            "129,326,112,3,3.5,3,9.1,1,0.84\r\n",
            "130,333,118,5,5,5,9.35,1,0.92\r\n",
            "131,339,114,5,4,4.5,9.76,1,0.96\r\n",
            "132,303,105,5,5,4.5,8.65,0,0.77\r\n",
            "133,309,105,5,3.5,3.5,8.56,0,0.71\r\n",
            "134,323,112,5,4,4.5,8.78,0,0.79\r\n",
            "135,333,113,5,4,4,9.28,1,0.89\r\n",
            "136,314,109,4,3.5,4,8.77,1,0.82\r\n",
            "137,312,103,3,5,4,8.45,0,0.76\r\n",
            "138,316,100,2,1.5,3,8.16,1,0.71\r\n",
            "139,326,116,2,4.5,3,9.08,1,0.8\r\n",
            "140,318,109,1,3.5,3.5,9.12,0,0.78\r\n",
            "141,329,110,2,4,3,9.15,1,0.84\r\n",
            "142,332,118,2,4.5,3.5,9.36,1,0.9\r\n",
            "143,331,115,5,4,3.5,9.44,1,0.92\r\n",
            "144,340,120,4,4.5,4,9.92,1,0.97\r\n",
            "145,325,112,2,3,3.5,8.96,1,0.8\r\n",
            "146,320,113,2,2,2.5,8.64,1,0.81\r\n",
            "147,315,105,3,2,2.5,8.48,0,0.75\r\n",
            "148,326,114,3,3,3,9.11,1,0.83\r\n",
            "149,339,116,4,4,3.5,9.8,1,0.96\r\n",
            "150,311,106,2,3.5,3,8.26,1,0.79\r\n",
            "151,334,114,4,4,4,9.43,1,0.93\r\n",
            "152,332,116,5,5,5,9.28,1,0.94\r\n",
            "153,321,112,5,5,5,9.06,1,0.86\r\n",
            "154,324,105,3,3,4,8.75,0,0.79\r\n",
            "155,326,108,3,3,3.5,8.89,0,0.8\r\n",
            "156,312,109,3,3,3,8.69,0,0.77\r\n",
            "157,315,105,3,2,2.5,8.34,0,0.7\r\n",
            "158,309,104,2,2,2.5,8.26,0,0.65\r\n",
            "159,306,106,2,2,2.5,8.14,0,0.61\r\n",
            "160,297,100,1,1.5,2,7.9,0,0.52\r\n",
            "161,315,103,1,1.5,2,7.86,0,0.57\r\n",
            "162,298,99,1,1.5,3,7.46,0,0.53\r\n",
            "163,318,109,3,3,3,8.5,0,0.67\r\n",
            "164,317,105,3,3.5,3,8.56,0,0.68\r\n",
            "165,329,111,4,4.5,4,9.01,1,0.81\r\n",
            "166,322,110,5,4.5,4,8.97,0,0.78\r\n",
            "167,302,102,3,3.5,5,8.33,0,0.65\r\n",
            "168,313,102,3,2,3,8.27,0,0.64\r\n",
            "169,293,97,2,2,4,7.8,1,0.64\r\n",
            "170,311,99,2,2.5,3,7.98,0,0.65\r\n",
            "171,312,101,2,2.5,3.5,8.04,1,0.68\r\n",
            "172,334,117,5,4,4.5,9.07,1,0.89\r\n",
            "173,322,110,4,4,5,9.13,1,0.86\r\n",
            "174,323,113,4,4,4.5,9.23,1,0.89\r\n",
            "175,321,111,4,4,4,8.97,1,0.87\r\n",
            "176,320,111,4,4.5,3.5,8.87,1,0.85\r\n",
            "177,329,119,4,4.5,4.5,9.16,1,0.9\r\n",
            "178,319,110,3,3.5,3.5,9.04,0,0.82\r\n",
            "179,309,108,3,2.5,3,8.12,0,0.72\r\n",
            "180,307,102,3,3,3,8.27,0,0.73\r\n",
            "181,300,104,3,3.5,3,8.16,0,0.71\r\n",
            "182,305,107,2,2.5,2.5,8.42,0,0.71\r\n",
            "183,299,100,2,3,3.5,7.88,0,0.68\r\n",
            "184,314,110,3,4,4,8.8,0,0.75\r\n",
            "185,316,106,2,2.5,4,8.32,0,0.72\r\n",
            "186,327,113,4,4.5,4.5,9.11,1,0.89\r\n",
            "187,317,107,3,3.5,3,8.68,1,0.84\r\n",
            "188,335,118,5,4.5,3.5,9.44,1,0.93\r\n",
            "189,331,115,5,4.5,3.5,9.36,1,0.93\r\n",
            "190,324,112,5,5,5,9.08,1,0.88\r\n",
            "191,324,111,5,4.5,4,9.16,1,0.9\r\n",
            "192,323,110,5,4,5,8.98,1,0.87\r\n",
            "193,322,114,5,4.5,4,8.94,1,0.86\r\n",
            "194,336,118,5,4.5,5,9.53,1,0.94\r\n",
            "195,316,109,3,3.5,3,8.76,0,0.77\r\n",
            "196,307,107,2,3,3.5,8.52,1,0.78\r\n",
            "197,306,105,2,3,2.5,8.26,0,0.73\r\n",
            "198,310,106,2,3.5,2.5,8.33,0,0.73\r\n",
            "199,311,104,3,4.5,4.5,8.43,0,0.7\r\n",
            "200,313,107,3,4,4.5,8.69,0,0.72\r\n",
            "201,317,103,3,2.5,3,8.54,1,0.73\r\n",
            "202,315,110,2,3.5,3,8.46,1,0.72\r\n",
            "203,340,120,5,4.5,4.5,9.91,1,0.97\r\n",
            "204,334,120,5,4,5,9.87,1,0.97\r\n",
            "205,298,105,3,3.5,4,8.54,0,0.69\r\n",
            "206,295,99,2,2.5,3,7.65,0,0.57\r\n",
            "207,315,99,2,3.5,3,7.89,0,0.63\r\n",
            "208,310,102,3,3.5,4,8.02,1,0.66\r\n",
            "209,305,106,2,3,3,8.16,0,0.64\r\n",
            "210,301,104,3,3.5,4,8.12,1,0.68\r\n",
            "211,325,108,4,4.5,4,9.06,1,0.79\r\n",
            "212,328,110,4,5,4,9.14,1,0.82\r\n",
            "213,338,120,4,5,5,9.66,1,0.95\r\n",
            "214,333,119,5,5,4.5,9.78,1,0.96\r\n",
            "215,331,117,4,4.5,5,9.42,1,0.94\r\n",
            "216,330,116,5,5,4.5,9.36,1,0.93\r\n",
            "217,322,112,4,4.5,4.5,9.26,1,0.91\r\n",
            "218,321,109,4,4,4,9.13,1,0.85\r\n",
            "219,324,110,4,3,3.5,8.97,1,0.84\r\n",
            "220,312,104,3,3.5,3.5,8.42,0,0.74\r\n",
            "221,313,103,3,4,4,8.75,0,0.76\r\n",
            "222,316,110,3,3.5,4,8.56,0,0.75\r\n",
            "223,324,113,4,4.5,4,8.79,0,0.76\r\n",
            "224,308,109,2,3,4,8.45,0,0.71\r\n",
            "225,305,105,2,3,2,8.23,0,0.67\r\n",
            "226,296,99,2,2.5,2.5,8.03,0,0.61\r\n",
            "227,306,110,2,3.5,4,8.45,0,0.63\r\n",
            "228,312,110,2,3.5,3,8.53,0,0.64\r\n",
            "229,318,112,3,4,3.5,8.67,0,0.71\r\n",
            "230,324,111,4,3,3,9.01,1,0.82\r\n",
            "231,313,104,3,4,4.5,8.65,0,0.73\r\n",
            "232,319,106,3,3.5,2.5,8.33,1,0.74\r\n",
            "233,312,107,2,2.5,3.5,8.27,0,0.69\r\n",
            "234,304,100,2,2.5,3.5,8.07,0,0.64\r\n",
            "235,330,113,5,5,4,9.31,1,0.91\r\n",
            "236,326,111,5,4.5,4,9.23,1,0.88\r\n",
            "237,325,112,4,4,4.5,9.17,1,0.85\r\n",
            "238,329,114,5,4.5,5,9.19,1,0.86\r\n",
            "239,310,104,3,2,3.5,8.37,0,0.7\r\n",
            "240,299,100,1,1.5,2,7.89,0,0.59\r\n",
            "241,296,101,1,2.5,3,7.68,0,0.6\r\n",
            "242,317,103,2,2.5,2,8.15,0,0.65\r\n",
            "243,324,115,3,3.5,3,8.76,1,0.7\r\n",
            "244,325,114,3,3.5,3,9.04,1,0.76\r\n",
            "245,314,107,2,2.5,4,8.56,0,0.63\r\n",
            "246,328,110,4,4,2.5,9.02,1,0.81\r\n",
            "247,316,105,3,3,3.5,8.73,0,0.72\r\n",
            "248,311,104,2,2.5,3.5,8.48,0,0.71\r\n",
            "249,324,110,3,3.5,4,8.87,1,0.8\r\n",
            "250,321,111,3,3.5,4,8.83,1,0.77\r\n",
            "251,320,104,3,3,2.5,8.57,1,0.74\r\n",
            "252,316,99,2,2.5,3,9,0,0.7\r\n",
            "253,318,100,2,2.5,3.5,8.54,1,0.71\r\n",
            "254,335,115,4,4.5,4.5,9.68,1,0.93\r\n",
            "255,321,114,4,4,5,9.12,0,0.85\r\n",
            "256,307,110,4,4,4.5,8.37,0,0.79\r\n",
            "257,309,99,3,4,4,8.56,0,0.76\r\n",
            "258,324,100,3,4,5,8.64,1,0.78\r\n",
            "259,326,102,4,5,5,8.76,1,0.77\r\n",
            "260,331,119,4,5,4.5,9.34,1,0.9\r\n",
            "261,327,108,5,5,3.5,9.13,1,0.87\r\n",
            "262,312,104,3,3.5,4,8.09,0,0.71\r\n",
            "263,308,103,2,2.5,4,8.36,1,0.7\r\n",
            "264,324,111,3,2.5,1.5,8.79,1,0.7\r\n",
            "265,325,110,2,3,2.5,8.76,1,0.75\r\n",
            "266,313,102,3,2.5,2.5,8.68,0,0.71\r\n",
            "267,312,105,2,2,2.5,8.45,0,0.72\r\n",
            "268,314,107,3,3,3.5,8.17,1,0.73\r\n",
            "269,327,113,4,4.5,5,9.14,0,0.83\r\n",
            "270,308,108,4,4.5,5,8.34,0,0.77\r\n",
            "271,306,105,2,2.5,3,8.22,1,0.72\r\n",
            "272,299,96,2,1.5,2,7.86,0,0.54\r\n",
            "273,294,95,1,1.5,1.5,7.64,0,0.49\r\n",
            "274,312,99,1,1,1.5,8.01,1,0.52\r\n",
            "275,315,100,1,2,2.5,7.95,0,0.58\r\n",
            "276,322,110,3,3.5,3,8.96,1,0.78\r\n",
            "277,329,113,5,5,4.5,9.45,1,0.89\r\n",
            "278,320,101,2,2.5,3,8.62,0,0.7\r\n",
            "279,308,103,2,3,3.5,8.49,0,0.66\r\n",
            "280,304,102,2,3,4,8.73,0,0.67\r\n",
            "281,311,102,3,4.5,4,8.64,1,0.68\r\n",
            "282,317,110,3,4,4.5,9.11,1,0.8\r\n",
            "283,312,106,3,4,3.5,8.79,1,0.81\r\n",
            "284,321,111,3,2.5,3,8.9,1,0.8\r\n",
            "285,340,112,4,5,4.5,9.66,1,0.94\r\n",
            "286,331,116,5,4,4,9.26,1,0.93\r\n",
            "287,336,118,5,4.5,4,9.19,1,0.92\r\n",
            "288,324,114,5,5,4.5,9.08,1,0.89\r\n",
            "289,314,104,4,5,5,9.02,0,0.82\r\n",
            "290,313,109,3,4,3.5,9,0,0.79\r\n",
            "291,307,105,2,2.5,3,7.65,0,0.58\r\n",
            "292,300,102,2,1.5,2,7.87,0,0.56\r\n",
            "293,302,99,2,1,2,7.97,0,0.56\r\n",
            "294,312,98,1,3.5,3,8.18,1,0.64\r\n",
            "295,316,101,2,2.5,2,8.32,1,0.61\r\n",
            "296,317,100,2,3,2.5,8.57,0,0.68\r\n",
            "297,310,107,3,3.5,3.5,8.67,0,0.76\r\n",
            "298,320,120,3,4,4.5,9.11,0,0.86\r\n",
            "299,330,114,3,4.5,4.5,9.24,1,0.9\r\n",
            "300,305,112,3,3,3.5,8.65,0,0.71\r\n",
            "301,309,106,2,2.5,2.5,8,0,0.62\r\n",
            "302,319,108,2,2.5,3,8.76,0,0.66\r\n",
            "303,322,105,2,3,3,8.45,1,0.65\r\n",
            "304,323,107,3,3.5,3.5,8.55,1,0.73\r\n",
            "305,313,106,2,2.5,2,8.43,0,0.62\r\n",
            "306,321,109,3,3.5,3.5,8.8,1,0.74\r\n",
            "307,323,110,3,4,3.5,9.1,1,0.79\r\n",
            "308,325,112,4,4,4,9,1,0.8\r\n",
            "309,312,108,3,3.5,3,8.53,0,0.69\r\n",
            "310,308,110,4,3.5,3,8.6,0,0.7\r\n",
            "311,320,104,3,3,3.5,8.74,1,0.76\r\n",
            "312,328,108,4,4.5,4,9.18,1,0.84\r\n",
            "313,311,107,4,4.5,4.5,9,1,0.78\r\n",
            "314,301,100,3,3.5,3,8.04,0,0.67\r\n",
            "315,305,105,2,3,4,8.13,0,0.66\r\n",
            "316,308,104,2,2.5,3,8.07,0,0.65\r\n",
            "317,298,101,2,1.5,2,7.86,0,0.54\r\n",
            "318,300,99,1,1,2.5,8.01,0,0.58\r\n",
            "319,324,111,3,2.5,2,8.8,1,0.79\r\n",
            "320,327,113,4,3.5,3,8.69,1,0.8\r\n",
            "321,317,106,3,4,3.5,8.5,1,0.75\r\n",
            "322,323,104,3,4,4,8.44,1,0.73\r\n",
            "323,314,107,2,2.5,4,8.27,0,0.72\r\n",
            "324,305,102,2,2,2.5,8.18,0,0.62\r\n",
            "325,315,104,3,3,2.5,8.33,0,0.67\r\n",
            "326,326,116,3,3.5,4,9.14,1,0.81\r\n",
            "327,299,100,3,2,2,8.02,0,0.63\r\n",
            "328,295,101,2,2.5,2,7.86,0,0.69\r\n",
            "329,324,112,4,4,3.5,8.77,1,0.8\r\n",
            "330,297,96,2,2.5,1.5,7.89,0,0.43\r\n",
            "331,327,113,3,3.5,3,8.66,1,0.8\r\n",
            "332,311,105,2,3,2,8.12,1,0.73\r\n",
            "333,308,106,3,3.5,2.5,8.21,1,0.75\r\n",
            "334,319,108,3,3,3.5,8.54,1,0.71\r\n",
            "335,312,107,4,4.5,4,8.65,1,0.73\r\n",
            "336,325,111,4,4,4.5,9.11,1,0.83\r\n",
            "337,319,110,3,3,2.5,8.79,0,0.72\r\n",
            "338,332,118,5,5,5,9.47,1,0.94\r\n",
            "339,323,108,5,4,4,8.74,1,0.81\r\n",
            "340,324,107,5,3.5,4,8.66,1,0.81\r\n",
            "341,312,107,3,3,3,8.46,1,0.75\r\n",
            "342,326,110,3,3.5,3.5,8.76,1,0.79\r\n",
            "343,308,106,3,3,3,8.24,0,0.58\r\n",
            "344,305,103,2,2.5,3.5,8.13,0,0.59\r\n",
            "345,295,96,2,1.5,2,7.34,0,0.47\r\n",
            "346,316,98,1,1.5,2,7.43,0,0.49\r\n",
            "347,304,97,2,1.5,2,7.64,0,0.47\r\n",
            "348,299,94,1,1,1,7.34,0,0.42\r\n",
            "349,302,99,1,2,2,7.25,0,0.57\r\n",
            "350,313,101,3,2.5,3,8.04,0,0.62\r\n",
            "351,318,107,3,3,3.5,8.27,1,0.74\r\n",
            "352,325,110,4,3.5,4,8.67,1,0.73\r\n",
            "353,303,100,2,3,3.5,8.06,1,0.64\r\n",
            "354,300,102,3,3.5,2.5,8.17,0,0.63\r\n",
            "355,297,98,2,2.5,3,7.67,0,0.59\r\n",
            "356,317,106,2,2,3.5,8.12,0,0.73\r\n",
            "357,327,109,3,3.5,4,8.77,1,0.79\r\n",
            "358,301,104,2,3.5,3.5,7.89,1,0.68\r\n",
            "359,314,105,2,2.5,2,7.64,0,0.7\r\n",
            "360,321,107,2,2,1.5,8.44,0,0.81\r\n",
            "361,322,110,3,4,5,8.64,1,0.85\r\n",
            "362,334,116,4,4,3.5,9.54,1,0.93\r\n",
            "363,338,115,5,4.5,5,9.23,1,0.91\r\n",
            "364,306,103,2,2.5,3,8.36,0,0.69\r\n",
            "365,313,102,3,3.5,4,8.9,1,0.77\r\n",
            "366,330,114,4,4.5,3,9.17,1,0.86\r\n",
            "367,320,104,3,3.5,4.5,8.34,1,0.74\r\n",
            "368,311,98,1,1,2.5,7.46,0,0.57\r\n",
            "369,298,92,1,2,2,7.88,0,0.51\r\n",
            "370,301,98,1,2,3,8.03,1,0.67\r\n",
            "371,310,103,2,2.5,2.5,8.24,0,0.72\r\n",
            "372,324,110,3,3.5,3,9.22,1,0.89\r\n",
            "373,336,119,4,4.5,4,9.62,1,0.95\r\n",
            "374,321,109,3,3,3,8.54,1,0.79\r\n",
            "375,315,105,2,2,2.5,7.65,0,0.39\r\n",
            "376,304,101,2,2,2.5,7.66,0,0.38\r\n",
            "377,297,96,2,2.5,2,7.43,0,0.34\r\n",
            "378,290,100,1,1.5,2,7.56,0,0.47\r\n",
            "379,303,98,1,2,2.5,7.65,0,0.56\r\n",
            "380,311,99,1,2.5,3,8.43,1,0.71\r\n",
            "381,322,104,3,3.5,4,8.84,1,0.78\r\n",
            "382,319,105,3,3,3.5,8.67,1,0.73\r\n",
            "383,324,110,4,4.5,4,9.15,1,0.82\r\n",
            "384,300,100,3,3,3.5,8.26,0,0.62\r\n",
            "385,340,113,4,5,5,9.74,1,0.96\r\n",
            "386,335,117,5,5,5,9.82,1,0.96\r\n",
            "387,302,101,2,2.5,3.5,7.96,0,0.46\r\n",
            "388,307,105,2,2,3.5,8.1,0,0.53\r\n",
            "389,296,97,2,1.5,2,7.8,0,0.49\r\n",
            "390,320,108,3,3.5,4,8.44,1,0.76\r\n",
            "391,314,102,2,2,2.5,8.24,0,0.64\r\n",
            "392,318,106,3,2,3,8.65,0,0.71\r\n",
            "393,326,112,4,4,3.5,9.12,1,0.84\r\n",
            "394,317,104,2,3,3,8.76,0,0.77\r\n",
            "395,329,111,4,4.5,4,9.23,1,0.89\r\n",
            "396,324,110,3,3.5,3.5,9.04,1,0.82\r\n",
            "397,325,107,3,3,3.5,9.11,1,0.84\r\n",
            "398,330,116,4,5,4.5,9.45,1,0.91\r\n",
            "399,312,103,3,3.5,4,8.78,0,0.67\r\n",
            "400,333,117,4,5,4,9.66,1,0.95"
          ],
          "name": "stdout"
        }
      ]
    },
    {
      "cell_type": "code",
      "metadata": {
        "colab": {
          "base_uri": "https://localhost:8080/",
          "height": 204
        },
        "id": "5Z6OwVvG_Uzu",
        "outputId": "28ef3e1f-dcc5-4332-af8c-86e932481baa"
      },
      "source": [
        "df = pd.read_csv('Admission_Predict.csv')\r\n",
        "df.head()"
      ],
      "execution_count": 97,
      "outputs": [
        {
          "output_type": "execute_result",
          "data": {
            "text/html": [
              "<div>\n",
              "<style scoped>\n",
              "    .dataframe tbody tr th:only-of-type {\n",
              "        vertical-align: middle;\n",
              "    }\n",
              "\n",
              "    .dataframe tbody tr th {\n",
              "        vertical-align: top;\n",
              "    }\n",
              "\n",
              "    .dataframe thead th {\n",
              "        text-align: right;\n",
              "    }\n",
              "</style>\n",
              "<table border=\"1\" class=\"dataframe\">\n",
              "  <thead>\n",
              "    <tr style=\"text-align: right;\">\n",
              "      <th></th>\n",
              "      <th>Serial No.</th>\n",
              "      <th>GRE Score</th>\n",
              "      <th>TOEFL Score</th>\n",
              "      <th>University Rating</th>\n",
              "      <th>SOP</th>\n",
              "      <th>LOR</th>\n",
              "      <th>CGPA</th>\n",
              "      <th>Research</th>\n",
              "      <th>Chance of Admit</th>\n",
              "    </tr>\n",
              "  </thead>\n",
              "  <tbody>\n",
              "    <tr>\n",
              "      <th>0</th>\n",
              "      <td>1</td>\n",
              "      <td>337</td>\n",
              "      <td>118</td>\n",
              "      <td>4</td>\n",
              "      <td>4.5</td>\n",
              "      <td>4.5</td>\n",
              "      <td>9.65</td>\n",
              "      <td>1</td>\n",
              "      <td>0.92</td>\n",
              "    </tr>\n",
              "    <tr>\n",
              "      <th>1</th>\n",
              "      <td>2</td>\n",
              "      <td>324</td>\n",
              "      <td>107</td>\n",
              "      <td>4</td>\n",
              "      <td>4.0</td>\n",
              "      <td>4.5</td>\n",
              "      <td>8.87</td>\n",
              "      <td>1</td>\n",
              "      <td>0.76</td>\n",
              "    </tr>\n",
              "    <tr>\n",
              "      <th>2</th>\n",
              "      <td>3</td>\n",
              "      <td>316</td>\n",
              "      <td>104</td>\n",
              "      <td>3</td>\n",
              "      <td>3.0</td>\n",
              "      <td>3.5</td>\n",
              "      <td>8.00</td>\n",
              "      <td>1</td>\n",
              "      <td>0.72</td>\n",
              "    </tr>\n",
              "    <tr>\n",
              "      <th>3</th>\n",
              "      <td>4</td>\n",
              "      <td>322</td>\n",
              "      <td>110</td>\n",
              "      <td>3</td>\n",
              "      <td>3.5</td>\n",
              "      <td>2.5</td>\n",
              "      <td>8.67</td>\n",
              "      <td>1</td>\n",
              "      <td>0.80</td>\n",
              "    </tr>\n",
              "    <tr>\n",
              "      <th>4</th>\n",
              "      <td>5</td>\n",
              "      <td>314</td>\n",
              "      <td>103</td>\n",
              "      <td>2</td>\n",
              "      <td>2.0</td>\n",
              "      <td>3.0</td>\n",
              "      <td>8.21</td>\n",
              "      <td>0</td>\n",
              "      <td>0.65</td>\n",
              "    </tr>\n",
              "  </tbody>\n",
              "</table>\n",
              "</div>"
            ],
            "text/plain": [
              "   Serial No.  GRE Score  TOEFL Score  ...  CGPA  Research  Chance of Admit \n",
              "0           1        337          118  ...  9.65         1              0.92\n",
              "1           2        324          107  ...  8.87         1              0.76\n",
              "2           3        316          104  ...  8.00         1              0.72\n",
              "3           4        322          110  ...  8.67         1              0.80\n",
              "4           5        314          103  ...  8.21         0              0.65\n",
              "\n",
              "[5 rows x 9 columns]"
            ]
          },
          "metadata": {
            "tags": []
          },
          "execution_count": 97
        }
      ]
    },
    {
      "cell_type": "code",
      "metadata": {
        "colab": {
          "base_uri": "https://localhost:8080/",
          "height": 235
        },
        "id": "iyawjwR7_xHx",
        "outputId": "a0092235-7bf6-49e4-eb3b-16a162e19cf2"
      },
      "source": [
        "df = pd.read_csv('Admission_Predict.csv', index_col=0)\r\n",
        "df.head()"
      ],
      "execution_count": 116,
      "outputs": [
        {
          "output_type": "execute_result",
          "data": {
            "text/html": [
              "<div>\n",
              "<style scoped>\n",
              "    .dataframe tbody tr th:only-of-type {\n",
              "        vertical-align: middle;\n",
              "    }\n",
              "\n",
              "    .dataframe tbody tr th {\n",
              "        vertical-align: top;\n",
              "    }\n",
              "\n",
              "    .dataframe thead th {\n",
              "        text-align: right;\n",
              "    }\n",
              "</style>\n",
              "<table border=\"1\" class=\"dataframe\">\n",
              "  <thead>\n",
              "    <tr style=\"text-align: right;\">\n",
              "      <th></th>\n",
              "      <th>GRE Score</th>\n",
              "      <th>TOEFL Score</th>\n",
              "      <th>University Rating</th>\n",
              "      <th>SOP</th>\n",
              "      <th>LOR</th>\n",
              "      <th>CGPA</th>\n",
              "      <th>Research</th>\n",
              "      <th>Chance of Admit</th>\n",
              "    </tr>\n",
              "    <tr>\n",
              "      <th>Serial No.</th>\n",
              "      <th></th>\n",
              "      <th></th>\n",
              "      <th></th>\n",
              "      <th></th>\n",
              "      <th></th>\n",
              "      <th></th>\n",
              "      <th></th>\n",
              "      <th></th>\n",
              "    </tr>\n",
              "  </thead>\n",
              "  <tbody>\n",
              "    <tr>\n",
              "      <th>1</th>\n",
              "      <td>337</td>\n",
              "      <td>118</td>\n",
              "      <td>4</td>\n",
              "      <td>4.5</td>\n",
              "      <td>4.5</td>\n",
              "      <td>9.65</td>\n",
              "      <td>1</td>\n",
              "      <td>0.92</td>\n",
              "    </tr>\n",
              "    <tr>\n",
              "      <th>2</th>\n",
              "      <td>324</td>\n",
              "      <td>107</td>\n",
              "      <td>4</td>\n",
              "      <td>4.0</td>\n",
              "      <td>4.5</td>\n",
              "      <td>8.87</td>\n",
              "      <td>1</td>\n",
              "      <td>0.76</td>\n",
              "    </tr>\n",
              "    <tr>\n",
              "      <th>3</th>\n",
              "      <td>316</td>\n",
              "      <td>104</td>\n",
              "      <td>3</td>\n",
              "      <td>3.0</td>\n",
              "      <td>3.5</td>\n",
              "      <td>8.00</td>\n",
              "      <td>1</td>\n",
              "      <td>0.72</td>\n",
              "    </tr>\n",
              "    <tr>\n",
              "      <th>4</th>\n",
              "      <td>322</td>\n",
              "      <td>110</td>\n",
              "      <td>3</td>\n",
              "      <td>3.5</td>\n",
              "      <td>2.5</td>\n",
              "      <td>8.67</td>\n",
              "      <td>1</td>\n",
              "      <td>0.80</td>\n",
              "    </tr>\n",
              "    <tr>\n",
              "      <th>5</th>\n",
              "      <td>314</td>\n",
              "      <td>103</td>\n",
              "      <td>2</td>\n",
              "      <td>2.0</td>\n",
              "      <td>3.0</td>\n",
              "      <td>8.21</td>\n",
              "      <td>0</td>\n",
              "      <td>0.65</td>\n",
              "    </tr>\n",
              "  </tbody>\n",
              "</table>\n",
              "</div>"
            ],
            "text/plain": [
              "            GRE Score  TOEFL Score  ...  Research  Chance of Admit \n",
              "Serial No.                          ...                            \n",
              "1                 337          118  ...         1              0.92\n",
              "2                 324          107  ...         1              0.76\n",
              "3                 316          104  ...         1              0.72\n",
              "4                 322          110  ...         1              0.80\n",
              "5                 314          103  ...         0              0.65\n",
              "\n",
              "[5 rows x 8 columns]"
            ]
          },
          "metadata": {
            "tags": []
          },
          "execution_count": 116
        }
      ]
    },
    {
      "cell_type": "code",
      "metadata": {
        "colab": {
          "base_uri": "https://localhost:8080/",
          "height": 269
        },
        "id": "iXaw6gip_7jk",
        "outputId": "ca745669-aa3a-4745-b75d-61500b412658"
      },
      "source": [
        "new_df = new_df.rename(columns={'GRE Score':'GRE Score',\r\n",
        "                            'TOEFL SCore': 'TOEFL SCore',\r\n",
        "                            'University Ranking': 'University Ranking',\r\n",
        "                            'SOP': 'Statement of Purpose',\r\n",
        "                            'LOR': 'Letter of Recommendation',\r\n",
        "                            'CGPA': 'CGPA',\r\n",
        "                            'Research':'Research',\r\n",
        "                            'Chance of Admit':'Chance of Admit'})\r\n",
        "new_df.head()"
      ],
      "execution_count": 111,
      "outputs": [
        {
          "output_type": "execute_result",
          "data": {
            "text/html": [
              "<div>\n",
              "<style scoped>\n",
              "    .dataframe tbody tr th:only-of-type {\n",
              "        vertical-align: middle;\n",
              "    }\n",
              "\n",
              "    .dataframe tbody tr th {\n",
              "        vertical-align: top;\n",
              "    }\n",
              "\n",
              "    .dataframe thead th {\n",
              "        text-align: right;\n",
              "    }\n",
              "</style>\n",
              "<table border=\"1\" class=\"dataframe\">\n",
              "  <thead>\n",
              "    <tr style=\"text-align: right;\">\n",
              "      <th></th>\n",
              "      <th>GRE Score</th>\n",
              "      <th>TOEFL Score</th>\n",
              "      <th>University Rating</th>\n",
              "      <th>Statement of Purpose</th>\n",
              "      <th>Letter of Recommendation</th>\n",
              "      <th>CGPA</th>\n",
              "      <th>Research</th>\n",
              "      <th>Chance of Admit</th>\n",
              "    </tr>\n",
              "    <tr>\n",
              "      <th>Serial No.</th>\n",
              "      <th></th>\n",
              "      <th></th>\n",
              "      <th></th>\n",
              "      <th></th>\n",
              "      <th></th>\n",
              "      <th></th>\n",
              "      <th></th>\n",
              "      <th></th>\n",
              "    </tr>\n",
              "  </thead>\n",
              "  <tbody>\n",
              "    <tr>\n",
              "      <th>1</th>\n",
              "      <td>337</td>\n",
              "      <td>118</td>\n",
              "      <td>4</td>\n",
              "      <td>4.5</td>\n",
              "      <td>4.5</td>\n",
              "      <td>9.65</td>\n",
              "      <td>1</td>\n",
              "      <td>0.92</td>\n",
              "    </tr>\n",
              "    <tr>\n",
              "      <th>2</th>\n",
              "      <td>324</td>\n",
              "      <td>107</td>\n",
              "      <td>4</td>\n",
              "      <td>4.0</td>\n",
              "      <td>4.5</td>\n",
              "      <td>8.87</td>\n",
              "      <td>1</td>\n",
              "      <td>0.76</td>\n",
              "    </tr>\n",
              "    <tr>\n",
              "      <th>3</th>\n",
              "      <td>316</td>\n",
              "      <td>104</td>\n",
              "      <td>3</td>\n",
              "      <td>3.0</td>\n",
              "      <td>3.5</td>\n",
              "      <td>8.00</td>\n",
              "      <td>1</td>\n",
              "      <td>0.72</td>\n",
              "    </tr>\n",
              "    <tr>\n",
              "      <th>4</th>\n",
              "      <td>322</td>\n",
              "      <td>110</td>\n",
              "      <td>3</td>\n",
              "      <td>3.5</td>\n",
              "      <td>2.5</td>\n",
              "      <td>8.67</td>\n",
              "      <td>1</td>\n",
              "      <td>0.80</td>\n",
              "    </tr>\n",
              "    <tr>\n",
              "      <th>5</th>\n",
              "      <td>314</td>\n",
              "      <td>103</td>\n",
              "      <td>2</td>\n",
              "      <td>2.0</td>\n",
              "      <td>3.0</td>\n",
              "      <td>8.21</td>\n",
              "      <td>0</td>\n",
              "      <td>0.65</td>\n",
              "    </tr>\n",
              "  </tbody>\n",
              "</table>\n",
              "</div>"
            ],
            "text/plain": [
              "            GRE Score  TOEFL Score  ...  Research  Chance of Admit \n",
              "Serial No.                          ...                            \n",
              "1                 337          118  ...         1              0.92\n",
              "2                 324          107  ...         1              0.76\n",
              "3                 316          104  ...         1              0.72\n",
              "4                 322          110  ...         1              0.80\n",
              "5                 314          103  ...         0              0.65\n",
              "\n",
              "[5 rows x 8 columns]"
            ]
          },
          "metadata": {
            "tags": []
          },
          "execution_count": 111
        }
      ]
    },
    {
      "cell_type": "markdown",
      "metadata": {
        "id": "QFV00xjaA1K3"
      },
      "source": [
        "As seen SOP is changed but LOR remains same\r\n"
      ]
    },
    {
      "cell_type": "code",
      "metadata": {
        "colab": {
          "base_uri": "https://localhost:8080/"
        },
        "id": "Fvv0_jjcAu0L",
        "outputId": "c21e6710-da0b-4dd2-d15b-d25e8e6af97e"
      },
      "source": [
        "new_df.columns"
      ],
      "execution_count": 112,
      "outputs": [
        {
          "output_type": "execute_result",
          "data": {
            "text/plain": [
              "Index(['GRE Score', 'TOEFL Score', 'University Rating', 'Statement of Purpose',\n",
              "       'Letter of Recommendation', 'CGPA', 'Research', 'Chance of Admit '],\n",
              "      dtype='object')"
            ]
          },
          "metadata": {
            "tags": []
          },
          "execution_count": 112
        }
      ]
    },
    {
      "cell_type": "markdown",
      "metadata": {
        "id": "J7-m06bRBRU8"
      },
      "source": [
        "As seen above *LOR has an extra space at right side* Like after *Chance for Admit* \r\n",
        "\r\n",
        "Rename Dictionary doesn't work for LOR, because the key used was just three characters instead of four."
      ]
    },
    {
      "cell_type": "code",
      "metadata": {
        "colab": {
          "base_uri": "https://localhost:8080/",
          "height": 269
        },
        "id": "GB7N1ZwcB0bt",
        "outputId": "8b56521a-e8d2-45c0-99d5-35c4a6a4458e"
      },
      "source": [
        "new_df = new_df.rename(columns={'LOR ': 'Letter of Recommendation'})\r\n",
        "new_df.head()"
      ],
      "execution_count": 113,
      "outputs": [
        {
          "output_type": "execute_result",
          "data": {
            "text/html": [
              "<div>\n",
              "<style scoped>\n",
              "    .dataframe tbody tr th:only-of-type {\n",
              "        vertical-align: middle;\n",
              "    }\n",
              "\n",
              "    .dataframe tbody tr th {\n",
              "        vertical-align: top;\n",
              "    }\n",
              "\n",
              "    .dataframe thead th {\n",
              "        text-align: right;\n",
              "    }\n",
              "</style>\n",
              "<table border=\"1\" class=\"dataframe\">\n",
              "  <thead>\n",
              "    <tr style=\"text-align: right;\">\n",
              "      <th></th>\n",
              "      <th>GRE Score</th>\n",
              "      <th>TOEFL Score</th>\n",
              "      <th>University Rating</th>\n",
              "      <th>Statement of Purpose</th>\n",
              "      <th>Letter of Recommendation</th>\n",
              "      <th>CGPA</th>\n",
              "      <th>Research</th>\n",
              "      <th>Chance of Admit</th>\n",
              "    </tr>\n",
              "    <tr>\n",
              "      <th>Serial No.</th>\n",
              "      <th></th>\n",
              "      <th></th>\n",
              "      <th></th>\n",
              "      <th></th>\n",
              "      <th></th>\n",
              "      <th></th>\n",
              "      <th></th>\n",
              "      <th></th>\n",
              "    </tr>\n",
              "  </thead>\n",
              "  <tbody>\n",
              "    <tr>\n",
              "      <th>1</th>\n",
              "      <td>337</td>\n",
              "      <td>118</td>\n",
              "      <td>4</td>\n",
              "      <td>4.5</td>\n",
              "      <td>4.5</td>\n",
              "      <td>9.65</td>\n",
              "      <td>1</td>\n",
              "      <td>0.92</td>\n",
              "    </tr>\n",
              "    <tr>\n",
              "      <th>2</th>\n",
              "      <td>324</td>\n",
              "      <td>107</td>\n",
              "      <td>4</td>\n",
              "      <td>4.0</td>\n",
              "      <td>4.5</td>\n",
              "      <td>8.87</td>\n",
              "      <td>1</td>\n",
              "      <td>0.76</td>\n",
              "    </tr>\n",
              "    <tr>\n",
              "      <th>3</th>\n",
              "      <td>316</td>\n",
              "      <td>104</td>\n",
              "      <td>3</td>\n",
              "      <td>3.0</td>\n",
              "      <td>3.5</td>\n",
              "      <td>8.00</td>\n",
              "      <td>1</td>\n",
              "      <td>0.72</td>\n",
              "    </tr>\n",
              "    <tr>\n",
              "      <th>4</th>\n",
              "      <td>322</td>\n",
              "      <td>110</td>\n",
              "      <td>3</td>\n",
              "      <td>3.5</td>\n",
              "      <td>2.5</td>\n",
              "      <td>8.67</td>\n",
              "      <td>1</td>\n",
              "      <td>0.80</td>\n",
              "    </tr>\n",
              "    <tr>\n",
              "      <th>5</th>\n",
              "      <td>314</td>\n",
              "      <td>103</td>\n",
              "      <td>2</td>\n",
              "      <td>2.0</td>\n",
              "      <td>3.0</td>\n",
              "      <td>8.21</td>\n",
              "      <td>0</td>\n",
              "      <td>0.65</td>\n",
              "    </tr>\n",
              "  </tbody>\n",
              "</table>\n",
              "</div>"
            ],
            "text/plain": [
              "            GRE Score  TOEFL Score  ...  Research  Chance of Admit \n",
              "Serial No.                          ...                            \n",
              "1                 337          118  ...         1              0.92\n",
              "2                 324          107  ...         1              0.76\n",
              "3                 316          104  ...         1              0.72\n",
              "4                 322          110  ...         1              0.80\n",
              "5                 314          103  ...         0              0.65\n",
              "\n",
              "[5 rows x 8 columns]"
            ]
          },
          "metadata": {
            "tags": []
          },
          "execution_count": 113
        }
      ]
    },
    {
      "cell_type": "code",
      "metadata": {
        "colab": {
          "base_uri": "https://localhost:8080/",
          "height": 269
        },
        "id": "aeAQv1MfCvUc",
        "outputId": "2f2e7b59-a1b9-4a1b-80c4-7c86587922bf"
      },
      "source": [
        "new_df = new_df.rename(mapper=str.strip, axis='columns')\r\n",
        "new_df.head()"
      ],
      "execution_count": 115,
      "outputs": [
        {
          "output_type": "execute_result",
          "data": {
            "text/html": [
              "<div>\n",
              "<style scoped>\n",
              "    .dataframe tbody tr th:only-of-type {\n",
              "        vertical-align: middle;\n",
              "    }\n",
              "\n",
              "    .dataframe tbody tr th {\n",
              "        vertical-align: top;\n",
              "    }\n",
              "\n",
              "    .dataframe thead th {\n",
              "        text-align: right;\n",
              "    }\n",
              "</style>\n",
              "<table border=\"1\" class=\"dataframe\">\n",
              "  <thead>\n",
              "    <tr style=\"text-align: right;\">\n",
              "      <th></th>\n",
              "      <th>GRE Score</th>\n",
              "      <th>TOEFL Score</th>\n",
              "      <th>University Rating</th>\n",
              "      <th>Statement of Purpose</th>\n",
              "      <th>Letter of Recommendation</th>\n",
              "      <th>CGPA</th>\n",
              "      <th>Research</th>\n",
              "      <th>Chance of Admit</th>\n",
              "    </tr>\n",
              "    <tr>\n",
              "      <th>Serial No.</th>\n",
              "      <th></th>\n",
              "      <th></th>\n",
              "      <th></th>\n",
              "      <th></th>\n",
              "      <th></th>\n",
              "      <th></th>\n",
              "      <th></th>\n",
              "      <th></th>\n",
              "    </tr>\n",
              "  </thead>\n",
              "  <tbody>\n",
              "    <tr>\n",
              "      <th>1</th>\n",
              "      <td>337</td>\n",
              "      <td>118</td>\n",
              "      <td>4</td>\n",
              "      <td>4.5</td>\n",
              "      <td>4.5</td>\n",
              "      <td>9.65</td>\n",
              "      <td>1</td>\n",
              "      <td>0.92</td>\n",
              "    </tr>\n",
              "    <tr>\n",
              "      <th>2</th>\n",
              "      <td>324</td>\n",
              "      <td>107</td>\n",
              "      <td>4</td>\n",
              "      <td>4.0</td>\n",
              "      <td>4.5</td>\n",
              "      <td>8.87</td>\n",
              "      <td>1</td>\n",
              "      <td>0.76</td>\n",
              "    </tr>\n",
              "    <tr>\n",
              "      <th>3</th>\n",
              "      <td>316</td>\n",
              "      <td>104</td>\n",
              "      <td>3</td>\n",
              "      <td>3.0</td>\n",
              "      <td>3.5</td>\n",
              "      <td>8.00</td>\n",
              "      <td>1</td>\n",
              "      <td>0.72</td>\n",
              "    </tr>\n",
              "    <tr>\n",
              "      <th>4</th>\n",
              "      <td>322</td>\n",
              "      <td>110</td>\n",
              "      <td>3</td>\n",
              "      <td>3.5</td>\n",
              "      <td>2.5</td>\n",
              "      <td>8.67</td>\n",
              "      <td>1</td>\n",
              "      <td>0.80</td>\n",
              "    </tr>\n",
              "    <tr>\n",
              "      <th>5</th>\n",
              "      <td>314</td>\n",
              "      <td>103</td>\n",
              "      <td>2</td>\n",
              "      <td>2.0</td>\n",
              "      <td>3.0</td>\n",
              "      <td>8.21</td>\n",
              "      <td>0</td>\n",
              "      <td>0.65</td>\n",
              "    </tr>\n",
              "  </tbody>\n",
              "</table>\n",
              "</div>"
            ],
            "text/plain": [
              "            GRE Score  TOEFL Score  ...  Research  Chance of Admit\n",
              "Serial No.                          ...                           \n",
              "1                 337          118  ...         1             0.92\n",
              "2                 324          107  ...         1             0.76\n",
              "3                 316          104  ...         1             0.72\n",
              "4                 322          110  ...         1             0.80\n",
              "5                 314          103  ...         0             0.65\n",
              "\n",
              "[5 rows x 8 columns]"
            ]
          },
          "metadata": {
            "tags": []
          },
          "execution_count": 115
        }
      ]
    },
    {
      "cell_type": "code",
      "metadata": {
        "colab": {
          "base_uri": "https://localhost:8080/"
        },
        "id": "c7ORZrdUD2wv",
        "outputId": "3f777101-0972-4561-8018-244448975104"
      },
      "source": [
        "df.columns"
      ],
      "execution_count": 117,
      "outputs": [
        {
          "output_type": "execute_result",
          "data": {
            "text/plain": [
              "Index(['GRE Score', 'TOEFL Score', 'University Rating', 'SOP', 'LOR ', 'CGPA',\n",
              "       'Research', 'Chance of Admit '],\n",
              "      dtype='object')"
            ]
          },
          "metadata": {
            "tags": []
          },
          "execution_count": 117
        }
      ]
    },
    {
      "cell_type": "code",
      "metadata": {
        "colab": {
          "base_uri": "https://localhost:8080/",
          "height": 235
        },
        "id": "BCXn96RFEJMV",
        "outputId": "7fbd2e60-2da4-466c-c61f-6a678227313e"
      },
      "source": [
        "cols = list(df.columns)\r\n",
        "cols = [x.lower().strip() for x in cols]\r\n",
        "df.columns = cols\r\n",
        "df.head()"
      ],
      "execution_count": 120,
      "outputs": [
        {
          "output_type": "execute_result",
          "data": {
            "text/html": [
              "<div>\n",
              "<style scoped>\n",
              "    .dataframe tbody tr th:only-of-type {\n",
              "        vertical-align: middle;\n",
              "    }\n",
              "\n",
              "    .dataframe tbody tr th {\n",
              "        vertical-align: top;\n",
              "    }\n",
              "\n",
              "    .dataframe thead th {\n",
              "        text-align: right;\n",
              "    }\n",
              "</style>\n",
              "<table border=\"1\" class=\"dataframe\">\n",
              "  <thead>\n",
              "    <tr style=\"text-align: right;\">\n",
              "      <th></th>\n",
              "      <th>gre score</th>\n",
              "      <th>toefl score</th>\n",
              "      <th>university rating</th>\n",
              "      <th>sop</th>\n",
              "      <th>lor</th>\n",
              "      <th>cgpa</th>\n",
              "      <th>research</th>\n",
              "      <th>chance of admit</th>\n",
              "    </tr>\n",
              "    <tr>\n",
              "      <th>Serial No.</th>\n",
              "      <th></th>\n",
              "      <th></th>\n",
              "      <th></th>\n",
              "      <th></th>\n",
              "      <th></th>\n",
              "      <th></th>\n",
              "      <th></th>\n",
              "      <th></th>\n",
              "    </tr>\n",
              "  </thead>\n",
              "  <tbody>\n",
              "    <tr>\n",
              "      <th>1</th>\n",
              "      <td>337</td>\n",
              "      <td>118</td>\n",
              "      <td>4</td>\n",
              "      <td>4.5</td>\n",
              "      <td>4.5</td>\n",
              "      <td>9.65</td>\n",
              "      <td>1</td>\n",
              "      <td>0.92</td>\n",
              "    </tr>\n",
              "    <tr>\n",
              "      <th>2</th>\n",
              "      <td>324</td>\n",
              "      <td>107</td>\n",
              "      <td>4</td>\n",
              "      <td>4.0</td>\n",
              "      <td>4.5</td>\n",
              "      <td>8.87</td>\n",
              "      <td>1</td>\n",
              "      <td>0.76</td>\n",
              "    </tr>\n",
              "    <tr>\n",
              "      <th>3</th>\n",
              "      <td>316</td>\n",
              "      <td>104</td>\n",
              "      <td>3</td>\n",
              "      <td>3.0</td>\n",
              "      <td>3.5</td>\n",
              "      <td>8.00</td>\n",
              "      <td>1</td>\n",
              "      <td>0.72</td>\n",
              "    </tr>\n",
              "    <tr>\n",
              "      <th>4</th>\n",
              "      <td>322</td>\n",
              "      <td>110</td>\n",
              "      <td>3</td>\n",
              "      <td>3.5</td>\n",
              "      <td>2.5</td>\n",
              "      <td>8.67</td>\n",
              "      <td>1</td>\n",
              "      <td>0.80</td>\n",
              "    </tr>\n",
              "    <tr>\n",
              "      <th>5</th>\n",
              "      <td>314</td>\n",
              "      <td>103</td>\n",
              "      <td>2</td>\n",
              "      <td>2.0</td>\n",
              "      <td>3.0</td>\n",
              "      <td>8.21</td>\n",
              "      <td>0</td>\n",
              "      <td>0.65</td>\n",
              "    </tr>\n",
              "  </tbody>\n",
              "</table>\n",
              "</div>"
            ],
            "text/plain": [
              "            gre score  toefl score  ...  research  chance of admit\n",
              "Serial No.                          ...                           \n",
              "1                 337          118  ...         1             0.92\n",
              "2                 324          107  ...         1             0.76\n",
              "3                 316          104  ...         1             0.72\n",
              "4                 322          110  ...         1             0.80\n",
              "5                 314          103  ...         0             0.65\n",
              "\n",
              "[5 rows x 8 columns]"
            ]
          },
          "metadata": {
            "tags": []
          },
          "execution_count": 120
        }
      ]
    },
    {
      "cell_type": "markdown",
      "metadata": {
        "id": "vtPERw4WEXg-"
      },
      "source": [
        "##**Querying a DataFrame**"
      ]
    },
    {
      "cell_type": "code",
      "metadata": {
        "colab": {
          "base_uri": "https://localhost:8080/"
        },
        "id": "_6ftfTB9EcIa",
        "outputId": "68aac64e-c822-4c77-cc81-80b865230fa1"
      },
      "source": [
        "admit_mask = df['chance of admit'] > 0.7\r\n",
        "admit_mask"
      ],
      "execution_count": 130,
      "outputs": [
        {
          "output_type": "execute_result",
          "data": {
            "text/plain": [
              "Serial No.\n",
              "1       True\n",
              "2       True\n",
              "3       True\n",
              "4       True\n",
              "5      False\n",
              "       ...  \n",
              "396     True\n",
              "397     True\n",
              "398     True\n",
              "399    False\n",
              "400     True\n",
              "Name: chance of admit, Length: 400, dtype: bool"
            ]
          },
          "metadata": {
            "tags": []
          },
          "execution_count": 130
        }
      ]
    },
    {
      "cell_type": "code",
      "metadata": {
        "colab": {
          "base_uri": "https://localhost:8080/",
          "height": 235
        },
        "id": "5xY9hWIKE2Jd",
        "outputId": "7c18ef49-b7e1-4ea5-ec24-9b18ec298380"
      },
      "source": [
        "df.where(admit_mask).head()"
      ],
      "execution_count": 127,
      "outputs": [
        {
          "output_type": "execute_result",
          "data": {
            "text/html": [
              "<div>\n",
              "<style scoped>\n",
              "    .dataframe tbody tr th:only-of-type {\n",
              "        vertical-align: middle;\n",
              "    }\n",
              "\n",
              "    .dataframe tbody tr th {\n",
              "        vertical-align: top;\n",
              "    }\n",
              "\n",
              "    .dataframe thead th {\n",
              "        text-align: right;\n",
              "    }\n",
              "</style>\n",
              "<table border=\"1\" class=\"dataframe\">\n",
              "  <thead>\n",
              "    <tr style=\"text-align: right;\">\n",
              "      <th></th>\n",
              "      <th>gre score</th>\n",
              "      <th>toefl score</th>\n",
              "      <th>university rating</th>\n",
              "      <th>sop</th>\n",
              "      <th>lor</th>\n",
              "      <th>cgpa</th>\n",
              "      <th>research</th>\n",
              "      <th>chance of admit</th>\n",
              "    </tr>\n",
              "    <tr>\n",
              "      <th>Serial No.</th>\n",
              "      <th></th>\n",
              "      <th></th>\n",
              "      <th></th>\n",
              "      <th></th>\n",
              "      <th></th>\n",
              "      <th></th>\n",
              "      <th></th>\n",
              "      <th></th>\n",
              "    </tr>\n",
              "  </thead>\n",
              "  <tbody>\n",
              "    <tr>\n",
              "      <th>1</th>\n",
              "      <td>337.0</td>\n",
              "      <td>118.0</td>\n",
              "      <td>4.0</td>\n",
              "      <td>4.5</td>\n",
              "      <td>4.5</td>\n",
              "      <td>9.65</td>\n",
              "      <td>1.0</td>\n",
              "      <td>0.92</td>\n",
              "    </tr>\n",
              "    <tr>\n",
              "      <th>2</th>\n",
              "      <td>324.0</td>\n",
              "      <td>107.0</td>\n",
              "      <td>4.0</td>\n",
              "      <td>4.0</td>\n",
              "      <td>4.5</td>\n",
              "      <td>8.87</td>\n",
              "      <td>1.0</td>\n",
              "      <td>0.76</td>\n",
              "    </tr>\n",
              "    <tr>\n",
              "      <th>3</th>\n",
              "      <td>316.0</td>\n",
              "      <td>104.0</td>\n",
              "      <td>3.0</td>\n",
              "      <td>3.0</td>\n",
              "      <td>3.5</td>\n",
              "      <td>8.00</td>\n",
              "      <td>1.0</td>\n",
              "      <td>0.72</td>\n",
              "    </tr>\n",
              "    <tr>\n",
              "      <th>4</th>\n",
              "      <td>322.0</td>\n",
              "      <td>110.0</td>\n",
              "      <td>3.0</td>\n",
              "      <td>3.5</td>\n",
              "      <td>2.5</td>\n",
              "      <td>8.67</td>\n",
              "      <td>1.0</td>\n",
              "      <td>0.80</td>\n",
              "    </tr>\n",
              "    <tr>\n",
              "      <th>5</th>\n",
              "      <td>NaN</td>\n",
              "      <td>NaN</td>\n",
              "      <td>NaN</td>\n",
              "      <td>NaN</td>\n",
              "      <td>NaN</td>\n",
              "      <td>NaN</td>\n",
              "      <td>NaN</td>\n",
              "      <td>NaN</td>\n",
              "    </tr>\n",
              "  </tbody>\n",
              "</table>\n",
              "</div>"
            ],
            "text/plain": [
              "            gre score  toefl score  ...  research  chance of admit\n",
              "Serial No.                          ...                           \n",
              "1               337.0        118.0  ...       1.0             0.92\n",
              "2               324.0        107.0  ...       1.0             0.76\n",
              "3               316.0        104.0  ...       1.0             0.72\n",
              "4               322.0        110.0  ...       1.0             0.80\n",
              "5                 NaN          NaN  ...       NaN              NaN\n",
              "\n",
              "[5 rows x 8 columns]"
            ]
          },
          "metadata": {
            "tags": []
          },
          "execution_count": 127
        }
      ]
    },
    {
      "cell_type": "markdown",
      "metadata": {
        "id": "vSVmz1_DFge4"
      },
      "source": [
        "If we not want **Nan** data, we can use dropna() function. It remove the Nan values and show the next columns without Nan value"
      ]
    },
    {
      "cell_type": "code",
      "metadata": {
        "colab": {
          "base_uri": "https://localhost:8080/",
          "height": 235
        },
        "id": "ek6a54PYFONY",
        "outputId": "d1d905c7-0692-4b09-c186-c58806cb7ab4"
      },
      "source": [
        "df.where(admit_mask).dropna().head()"
      ],
      "execution_count": 132,
      "outputs": [
        {
          "output_type": "execute_result",
          "data": {
            "text/html": [
              "<div>\n",
              "<style scoped>\n",
              "    .dataframe tbody tr th:only-of-type {\n",
              "        vertical-align: middle;\n",
              "    }\n",
              "\n",
              "    .dataframe tbody tr th {\n",
              "        vertical-align: top;\n",
              "    }\n",
              "\n",
              "    .dataframe thead th {\n",
              "        text-align: right;\n",
              "    }\n",
              "</style>\n",
              "<table border=\"1\" class=\"dataframe\">\n",
              "  <thead>\n",
              "    <tr style=\"text-align: right;\">\n",
              "      <th></th>\n",
              "      <th>gre score</th>\n",
              "      <th>toefl score</th>\n",
              "      <th>university rating</th>\n",
              "      <th>sop</th>\n",
              "      <th>lor</th>\n",
              "      <th>cgpa</th>\n",
              "      <th>research</th>\n",
              "      <th>chance of admit</th>\n",
              "    </tr>\n",
              "    <tr>\n",
              "      <th>Serial No.</th>\n",
              "      <th></th>\n",
              "      <th></th>\n",
              "      <th></th>\n",
              "      <th></th>\n",
              "      <th></th>\n",
              "      <th></th>\n",
              "      <th></th>\n",
              "      <th></th>\n",
              "    </tr>\n",
              "  </thead>\n",
              "  <tbody>\n",
              "    <tr>\n",
              "      <th>1</th>\n",
              "      <td>337.0</td>\n",
              "      <td>118.0</td>\n",
              "      <td>4.0</td>\n",
              "      <td>4.5</td>\n",
              "      <td>4.5</td>\n",
              "      <td>9.65</td>\n",
              "      <td>1.0</td>\n",
              "      <td>0.92</td>\n",
              "    </tr>\n",
              "    <tr>\n",
              "      <th>2</th>\n",
              "      <td>324.0</td>\n",
              "      <td>107.0</td>\n",
              "      <td>4.0</td>\n",
              "      <td>4.0</td>\n",
              "      <td>4.5</td>\n",
              "      <td>8.87</td>\n",
              "      <td>1.0</td>\n",
              "      <td>0.76</td>\n",
              "    </tr>\n",
              "    <tr>\n",
              "      <th>3</th>\n",
              "      <td>316.0</td>\n",
              "      <td>104.0</td>\n",
              "      <td>3.0</td>\n",
              "      <td>3.0</td>\n",
              "      <td>3.5</td>\n",
              "      <td>8.00</td>\n",
              "      <td>1.0</td>\n",
              "      <td>0.72</td>\n",
              "    </tr>\n",
              "    <tr>\n",
              "      <th>4</th>\n",
              "      <td>322.0</td>\n",
              "      <td>110.0</td>\n",
              "      <td>3.0</td>\n",
              "      <td>3.5</td>\n",
              "      <td>2.5</td>\n",
              "      <td>8.67</td>\n",
              "      <td>1.0</td>\n",
              "      <td>0.80</td>\n",
              "    </tr>\n",
              "    <tr>\n",
              "      <th>6</th>\n",
              "      <td>330.0</td>\n",
              "      <td>115.0</td>\n",
              "      <td>5.0</td>\n",
              "      <td>4.5</td>\n",
              "      <td>3.0</td>\n",
              "      <td>9.34</td>\n",
              "      <td>1.0</td>\n",
              "      <td>0.90</td>\n",
              "    </tr>\n",
              "  </tbody>\n",
              "</table>\n",
              "</div>"
            ],
            "text/plain": [
              "            gre score  toefl score  ...  research  chance of admit\n",
              "Serial No.                          ...                           \n",
              "1               337.0        118.0  ...       1.0             0.92\n",
              "2               324.0        107.0  ...       1.0             0.76\n",
              "3               316.0        104.0  ...       1.0             0.72\n",
              "4               322.0        110.0  ...       1.0             0.80\n",
              "6               330.0        115.0  ...       1.0             0.90\n",
              "\n",
              "[5 rows x 8 columns]"
            ]
          },
          "metadata": {
            "tags": []
          },
          "execution_count": 132
        }
      ]
    },
    {
      "cell_type": "markdown",
      "metadata": {
        "id": "V47hcZ_sF7vB"
      },
      "source": [
        "**To Do above code we have another way to do it**"
      ]
    },
    {
      "cell_type": "code",
      "metadata": {
        "colab": {
          "base_uri": "https://localhost:8080/",
          "height": 235
        },
        "id": "RSR7PbFUF3Ae",
        "outputId": "86e0680b-4bbe-48c2-b173-de26c0765e63"
      },
      "source": [
        "df[df['chance of admit'] > 0.7].head()"
      ],
      "execution_count": 133,
      "outputs": [
        {
          "output_type": "execute_result",
          "data": {
            "text/html": [
              "<div>\n",
              "<style scoped>\n",
              "    .dataframe tbody tr th:only-of-type {\n",
              "        vertical-align: middle;\n",
              "    }\n",
              "\n",
              "    .dataframe tbody tr th {\n",
              "        vertical-align: top;\n",
              "    }\n",
              "\n",
              "    .dataframe thead th {\n",
              "        text-align: right;\n",
              "    }\n",
              "</style>\n",
              "<table border=\"1\" class=\"dataframe\">\n",
              "  <thead>\n",
              "    <tr style=\"text-align: right;\">\n",
              "      <th></th>\n",
              "      <th>gre score</th>\n",
              "      <th>toefl score</th>\n",
              "      <th>university rating</th>\n",
              "      <th>sop</th>\n",
              "      <th>lor</th>\n",
              "      <th>cgpa</th>\n",
              "      <th>research</th>\n",
              "      <th>chance of admit</th>\n",
              "    </tr>\n",
              "    <tr>\n",
              "      <th>Serial No.</th>\n",
              "      <th></th>\n",
              "      <th></th>\n",
              "      <th></th>\n",
              "      <th></th>\n",
              "      <th></th>\n",
              "      <th></th>\n",
              "      <th></th>\n",
              "      <th></th>\n",
              "    </tr>\n",
              "  </thead>\n",
              "  <tbody>\n",
              "    <tr>\n",
              "      <th>1</th>\n",
              "      <td>337</td>\n",
              "      <td>118</td>\n",
              "      <td>4</td>\n",
              "      <td>4.5</td>\n",
              "      <td>4.5</td>\n",
              "      <td>9.65</td>\n",
              "      <td>1</td>\n",
              "      <td>0.92</td>\n",
              "    </tr>\n",
              "    <tr>\n",
              "      <th>2</th>\n",
              "      <td>324</td>\n",
              "      <td>107</td>\n",
              "      <td>4</td>\n",
              "      <td>4.0</td>\n",
              "      <td>4.5</td>\n",
              "      <td>8.87</td>\n",
              "      <td>1</td>\n",
              "      <td>0.76</td>\n",
              "    </tr>\n",
              "    <tr>\n",
              "      <th>3</th>\n",
              "      <td>316</td>\n",
              "      <td>104</td>\n",
              "      <td>3</td>\n",
              "      <td>3.0</td>\n",
              "      <td>3.5</td>\n",
              "      <td>8.00</td>\n",
              "      <td>1</td>\n",
              "      <td>0.72</td>\n",
              "    </tr>\n",
              "    <tr>\n",
              "      <th>4</th>\n",
              "      <td>322</td>\n",
              "      <td>110</td>\n",
              "      <td>3</td>\n",
              "      <td>3.5</td>\n",
              "      <td>2.5</td>\n",
              "      <td>8.67</td>\n",
              "      <td>1</td>\n",
              "      <td>0.80</td>\n",
              "    </tr>\n",
              "    <tr>\n",
              "      <th>6</th>\n",
              "      <td>330</td>\n",
              "      <td>115</td>\n",
              "      <td>5</td>\n",
              "      <td>4.5</td>\n",
              "      <td>3.0</td>\n",
              "      <td>9.34</td>\n",
              "      <td>1</td>\n",
              "      <td>0.90</td>\n",
              "    </tr>\n",
              "  </tbody>\n",
              "</table>\n",
              "</div>"
            ],
            "text/plain": [
              "            gre score  toefl score  ...  research  chance of admit\n",
              "Serial No.                          ...                           \n",
              "1                 337          118  ...         1             0.92\n",
              "2                 324          107  ...         1             0.76\n",
              "3                 316          104  ...         1             0.72\n",
              "4                 322          110  ...         1             0.80\n",
              "6                 330          115  ...         1             0.90\n",
              "\n",
              "[5 rows x 8 columns]"
            ]
          },
          "metadata": {
            "tags": []
          },
          "execution_count": 133
        }
      ]
    },
    {
      "cell_type": "code",
      "metadata": {
        "colab": {
          "base_uri": "https://localhost:8080/"
        },
        "id": "os5tJHeCGK63",
        "outputId": "80a02bdf-0004-441c-e683-014f652ae99b"
      },
      "source": [
        "df['gre score'].head()"
      ],
      "execution_count": 135,
      "outputs": [
        {
          "output_type": "execute_result",
          "data": {
            "text/plain": [
              "Serial No.\n",
              "1    337\n",
              "2    324\n",
              "3    316\n",
              "4    322\n",
              "5    314\n",
              "Name: gre score, dtype: int64"
            ]
          },
          "metadata": {
            "tags": []
          },
          "execution_count": 135
        }
      ]
    },
    {
      "cell_type": "code",
      "metadata": {
        "colab": {
          "base_uri": "https://localhost:8080/",
          "height": 235
        },
        "id": "LaB7MocXGOT1",
        "outputId": "b2fadc10-243f-4ac0-f937-c7b11e792c5d"
      },
      "source": [
        "df[['gre score','toefl score']].head()"
      ],
      "execution_count": 138,
      "outputs": [
        {
          "output_type": "execute_result",
          "data": {
            "text/html": [
              "<div>\n",
              "<style scoped>\n",
              "    .dataframe tbody tr th:only-of-type {\n",
              "        vertical-align: middle;\n",
              "    }\n",
              "\n",
              "    .dataframe tbody tr th {\n",
              "        vertical-align: top;\n",
              "    }\n",
              "\n",
              "    .dataframe thead th {\n",
              "        text-align: right;\n",
              "    }\n",
              "</style>\n",
              "<table border=\"1\" class=\"dataframe\">\n",
              "  <thead>\n",
              "    <tr style=\"text-align: right;\">\n",
              "      <th></th>\n",
              "      <th>gre score</th>\n",
              "      <th>toefl score</th>\n",
              "    </tr>\n",
              "    <tr>\n",
              "      <th>Serial No.</th>\n",
              "      <th></th>\n",
              "      <th></th>\n",
              "    </tr>\n",
              "  </thead>\n",
              "  <tbody>\n",
              "    <tr>\n",
              "      <th>1</th>\n",
              "      <td>337</td>\n",
              "      <td>118</td>\n",
              "    </tr>\n",
              "    <tr>\n",
              "      <th>2</th>\n",
              "      <td>324</td>\n",
              "      <td>107</td>\n",
              "    </tr>\n",
              "    <tr>\n",
              "      <th>3</th>\n",
              "      <td>316</td>\n",
              "      <td>104</td>\n",
              "    </tr>\n",
              "    <tr>\n",
              "      <th>4</th>\n",
              "      <td>322</td>\n",
              "      <td>110</td>\n",
              "    </tr>\n",
              "    <tr>\n",
              "      <th>5</th>\n",
              "      <td>314</td>\n",
              "      <td>103</td>\n",
              "    </tr>\n",
              "  </tbody>\n",
              "</table>\n",
              "</div>"
            ],
            "text/plain": [
              "            gre score  toefl score\n",
              "Serial No.                        \n",
              "1                 337          118\n",
              "2                 324          107\n",
              "3                 316          104\n",
              "4                 322          110\n",
              "5                 314          103"
            ]
          },
          "metadata": {
            "tags": []
          },
          "execution_count": 138
        }
      ]
    },
    {
      "cell_type": "code",
      "metadata": {
        "colab": {
          "base_uri": "https://localhost:8080/",
          "height": 235
        },
        "id": "Qdn9XChqGf10",
        "outputId": "156fb661-7124-407a-fde1-caf3ac6df413"
      },
      "source": [
        "df[df['gre score']>320].head()"
      ],
      "execution_count": 139,
      "outputs": [
        {
          "output_type": "execute_result",
          "data": {
            "text/html": [
              "<div>\n",
              "<style scoped>\n",
              "    .dataframe tbody tr th:only-of-type {\n",
              "        vertical-align: middle;\n",
              "    }\n",
              "\n",
              "    .dataframe tbody tr th {\n",
              "        vertical-align: top;\n",
              "    }\n",
              "\n",
              "    .dataframe thead th {\n",
              "        text-align: right;\n",
              "    }\n",
              "</style>\n",
              "<table border=\"1\" class=\"dataframe\">\n",
              "  <thead>\n",
              "    <tr style=\"text-align: right;\">\n",
              "      <th></th>\n",
              "      <th>gre score</th>\n",
              "      <th>toefl score</th>\n",
              "      <th>university rating</th>\n",
              "      <th>sop</th>\n",
              "      <th>lor</th>\n",
              "      <th>cgpa</th>\n",
              "      <th>research</th>\n",
              "      <th>chance of admit</th>\n",
              "    </tr>\n",
              "    <tr>\n",
              "      <th>Serial No.</th>\n",
              "      <th></th>\n",
              "      <th></th>\n",
              "      <th></th>\n",
              "      <th></th>\n",
              "      <th></th>\n",
              "      <th></th>\n",
              "      <th></th>\n",
              "      <th></th>\n",
              "    </tr>\n",
              "  </thead>\n",
              "  <tbody>\n",
              "    <tr>\n",
              "      <th>1</th>\n",
              "      <td>337</td>\n",
              "      <td>118</td>\n",
              "      <td>4</td>\n",
              "      <td>4.5</td>\n",
              "      <td>4.5</td>\n",
              "      <td>9.65</td>\n",
              "      <td>1</td>\n",
              "      <td>0.92</td>\n",
              "    </tr>\n",
              "    <tr>\n",
              "      <th>2</th>\n",
              "      <td>324</td>\n",
              "      <td>107</td>\n",
              "      <td>4</td>\n",
              "      <td>4.0</td>\n",
              "      <td>4.5</td>\n",
              "      <td>8.87</td>\n",
              "      <td>1</td>\n",
              "      <td>0.76</td>\n",
              "    </tr>\n",
              "    <tr>\n",
              "      <th>4</th>\n",
              "      <td>322</td>\n",
              "      <td>110</td>\n",
              "      <td>3</td>\n",
              "      <td>3.5</td>\n",
              "      <td>2.5</td>\n",
              "      <td>8.67</td>\n",
              "      <td>1</td>\n",
              "      <td>0.80</td>\n",
              "    </tr>\n",
              "    <tr>\n",
              "      <th>6</th>\n",
              "      <td>330</td>\n",
              "      <td>115</td>\n",
              "      <td>5</td>\n",
              "      <td>4.5</td>\n",
              "      <td>3.0</td>\n",
              "      <td>9.34</td>\n",
              "      <td>1</td>\n",
              "      <td>0.90</td>\n",
              "    </tr>\n",
              "    <tr>\n",
              "      <th>7</th>\n",
              "      <td>321</td>\n",
              "      <td>109</td>\n",
              "      <td>3</td>\n",
              "      <td>3.0</td>\n",
              "      <td>4.0</td>\n",
              "      <td>8.20</td>\n",
              "      <td>1</td>\n",
              "      <td>0.75</td>\n",
              "    </tr>\n",
              "  </tbody>\n",
              "</table>\n",
              "</div>"
            ],
            "text/plain": [
              "            gre score  toefl score  ...  research  chance of admit\n",
              "Serial No.                          ...                           \n",
              "1                 337          118  ...         1             0.92\n",
              "2                 324          107  ...         1             0.76\n",
              "4                 322          110  ...         1             0.80\n",
              "6                 330          115  ...         1             0.90\n",
              "7                 321          109  ...         1             0.75\n",
              "\n",
              "[5 rows x 8 columns]"
            ]
          },
          "metadata": {
            "tags": []
          },
          "execution_count": 139
        }
      ]
    },
    {
      "cell_type": "code",
      "metadata": {
        "colab": {
          "base_uri": "https://localhost:8080/",
          "height": 282
        },
        "id": "UzlFODuBGo9Q",
        "outputId": "77d364ba-0edc-4a84-885e-c1ba4e97c2f3"
      },
      "source": [
        "(df['chance of admit'] > 0.7) and (df['chance of admit']< 0.9)"
      ],
      "execution_count": 140,
      "outputs": [
        {
          "output_type": "error",
          "ename": "ValueError",
          "evalue": "ignored",
          "traceback": [
            "\u001b[0;31m---------------------------------------------------------------------------\u001b[0m",
            "\u001b[0;31mValueError\u001b[0m                                Traceback (most recent call last)",
            "\u001b[0;32m<ipython-input-140-35420fea3bac>\u001b[0m in \u001b[0;36m<module>\u001b[0;34m()\u001b[0m\n\u001b[0;32m----> 1\u001b[0;31m \u001b[0;34m(\u001b[0m\u001b[0mdf\u001b[0m\u001b[0;34m[\u001b[0m\u001b[0;34m'chance of admit'\u001b[0m\u001b[0;34m]\u001b[0m \u001b[0;34m>\u001b[0m \u001b[0;36m0.7\u001b[0m\u001b[0;34m)\u001b[0m \u001b[0;32mand\u001b[0m \u001b[0;34m(\u001b[0m\u001b[0mdf\u001b[0m\u001b[0;34m[\u001b[0m\u001b[0;34m'chance of admit'\u001b[0m\u001b[0;34m]\u001b[0m\u001b[0;34m<\u001b[0m \u001b[0;36m0.9\u001b[0m\u001b[0;34m)\u001b[0m\u001b[0;34m\u001b[0m\u001b[0;34m\u001b[0m\u001b[0m\n\u001b[0m",
            "\u001b[0;32m/usr/local/lib/python3.7/dist-packages/pandas/core/generic.py\u001b[0m in \u001b[0;36m__nonzero__\u001b[0;34m(self)\u001b[0m\n\u001b[1;32m   1328\u001b[0m     \u001b[0;32mdef\u001b[0m \u001b[0m__nonzero__\u001b[0m\u001b[0;34m(\u001b[0m\u001b[0mself\u001b[0m\u001b[0;34m)\u001b[0m\u001b[0;34m:\u001b[0m\u001b[0;34m\u001b[0m\u001b[0;34m\u001b[0m\u001b[0m\n\u001b[1;32m   1329\u001b[0m         raise ValueError(\n\u001b[0;32m-> 1330\u001b[0;31m             \u001b[0;34mf\"The truth value of a {type(self).__name__} is ambiguous. \"\u001b[0m\u001b[0;34m\u001b[0m\u001b[0;34m\u001b[0m\u001b[0m\n\u001b[0m\u001b[1;32m   1331\u001b[0m             \u001b[0;34m\"Use a.empty, a.bool(), a.item(), a.any() or a.all().\"\u001b[0m\u001b[0;34m\u001b[0m\u001b[0;34m\u001b[0m\u001b[0m\n\u001b[1;32m   1332\u001b[0m         )\n",
            "\u001b[0;31mValueError\u001b[0m: The truth value of a Series is ambiguous. Use a.empty, a.bool(), a.item(), a.any() or a.all()."
          ]
        }
      ]
    },
    {
      "cell_type": "code",
      "metadata": {
        "colab": {
          "base_uri": "https://localhost:8080/"
        },
        "id": "yUJhsEyFGzxv",
        "outputId": "552f0b60-39ea-4ed3-fd21-2f1f86bf7f3a"
      },
      "source": [
        "(df['chance of admit']> 0.7) & (df['chance of admit'] < 0.9)"
      ],
      "execution_count": 141,
      "outputs": [
        {
          "output_type": "execute_result",
          "data": {
            "text/plain": [
              "Serial No.\n",
              "1      False\n",
              "2       True\n",
              "3       True\n",
              "4       True\n",
              "5      False\n",
              "       ...  \n",
              "396    False\n",
              "397    False\n",
              "398    False\n",
              "399    False\n",
              "400    False\n",
              "Name: chance of admit, Length: 400, dtype: bool"
            ]
          },
          "metadata": {
            "tags": []
          },
          "execution_count": 141
        }
      ]
    },
    {
      "cell_type": "code",
      "metadata": {
        "colab": {
          "base_uri": "https://localhost:8080/",
          "height": 235
        },
        "id": "4qwqUz8lHEbt",
        "outputId": "0a19aa26-6b56-4aa4-d92c-66545269cea2"
      },
      "source": [
        "df[(df['chance of admit']> 0.7) & (df['chance of admit'] < 0.9)].head()"
      ],
      "execution_count": 142,
      "outputs": [
        {
          "output_type": "execute_result",
          "data": {
            "text/html": [
              "<div>\n",
              "<style scoped>\n",
              "    .dataframe tbody tr th:only-of-type {\n",
              "        vertical-align: middle;\n",
              "    }\n",
              "\n",
              "    .dataframe tbody tr th {\n",
              "        vertical-align: top;\n",
              "    }\n",
              "\n",
              "    .dataframe thead th {\n",
              "        text-align: right;\n",
              "    }\n",
              "</style>\n",
              "<table border=\"1\" class=\"dataframe\">\n",
              "  <thead>\n",
              "    <tr style=\"text-align: right;\">\n",
              "      <th></th>\n",
              "      <th>gre score</th>\n",
              "      <th>toefl score</th>\n",
              "      <th>university rating</th>\n",
              "      <th>sop</th>\n",
              "      <th>lor</th>\n",
              "      <th>cgpa</th>\n",
              "      <th>research</th>\n",
              "      <th>chance of admit</th>\n",
              "    </tr>\n",
              "    <tr>\n",
              "      <th>Serial No.</th>\n",
              "      <th></th>\n",
              "      <th></th>\n",
              "      <th></th>\n",
              "      <th></th>\n",
              "      <th></th>\n",
              "      <th></th>\n",
              "      <th></th>\n",
              "      <th></th>\n",
              "    </tr>\n",
              "  </thead>\n",
              "  <tbody>\n",
              "    <tr>\n",
              "      <th>2</th>\n",
              "      <td>324</td>\n",
              "      <td>107</td>\n",
              "      <td>4</td>\n",
              "      <td>4.0</td>\n",
              "      <td>4.5</td>\n",
              "      <td>8.87</td>\n",
              "      <td>1</td>\n",
              "      <td>0.76</td>\n",
              "    </tr>\n",
              "    <tr>\n",
              "      <th>3</th>\n",
              "      <td>316</td>\n",
              "      <td>104</td>\n",
              "      <td>3</td>\n",
              "      <td>3.0</td>\n",
              "      <td>3.5</td>\n",
              "      <td>8.00</td>\n",
              "      <td>1</td>\n",
              "      <td>0.72</td>\n",
              "    </tr>\n",
              "    <tr>\n",
              "      <th>4</th>\n",
              "      <td>322</td>\n",
              "      <td>110</td>\n",
              "      <td>3</td>\n",
              "      <td>3.5</td>\n",
              "      <td>2.5</td>\n",
              "      <td>8.67</td>\n",
              "      <td>1</td>\n",
              "      <td>0.80</td>\n",
              "    </tr>\n",
              "    <tr>\n",
              "      <th>7</th>\n",
              "      <td>321</td>\n",
              "      <td>109</td>\n",
              "      <td>3</td>\n",
              "      <td>3.0</td>\n",
              "      <td>4.0</td>\n",
              "      <td>8.20</td>\n",
              "      <td>1</td>\n",
              "      <td>0.75</td>\n",
              "    </tr>\n",
              "    <tr>\n",
              "      <th>12</th>\n",
              "      <td>327</td>\n",
              "      <td>111</td>\n",
              "      <td>4</td>\n",
              "      <td>4.0</td>\n",
              "      <td>4.5</td>\n",
              "      <td>9.00</td>\n",
              "      <td>1</td>\n",
              "      <td>0.84</td>\n",
              "    </tr>\n",
              "  </tbody>\n",
              "</table>\n",
              "</div>"
            ],
            "text/plain": [
              "            gre score  toefl score  ...  research  chance of admit\n",
              "Serial No.                          ...                           \n",
              "2                 324          107  ...         1             0.76\n",
              "3                 316          104  ...         1             0.72\n",
              "4                 322          110  ...         1             0.80\n",
              "7                 321          109  ...         1             0.75\n",
              "12                327          111  ...         1             0.84\n",
              "\n",
              "[5 rows x 8 columns]"
            ]
          },
          "metadata": {
            "tags": []
          },
          "execution_count": 142
        }
      ]
    },
    {
      "cell_type": "markdown",
      "metadata": {
        "id": "AJZVdtptHZ6Q"
      },
      "source": [
        "The problem is that Python is trying to bitwise 0.7 and a panda dataframe, when we really want to bitwise and the broadcasted dataframes together\r\n",
        "\r\n",
        "Another way to do this is to get rid of the comparision operator completely, and instead use the built-in functions which mimic the approach"
      ]
    },
    {
      "cell_type": "code",
      "metadata": {
        "colab": {
          "base_uri": "https://localhost:8080/"
        },
        "id": "Qc7cNN1NHPlY",
        "outputId": "037e1a90-b1d5-4f17-e35a-12c93363d21a"
      },
      "source": [
        "df['chance of admit'].gt(0.7) & df['chance of admit'].lt(0.9)"
      ],
      "execution_count": 143,
      "outputs": [
        {
          "output_type": "execute_result",
          "data": {
            "text/plain": [
              "Serial No.\n",
              "1      False\n",
              "2       True\n",
              "3       True\n",
              "4       True\n",
              "5      False\n",
              "       ...  \n",
              "396     True\n",
              "397     True\n",
              "398    False\n",
              "399    False\n",
              "400    False\n",
              "Name: chance of admit, Length: 400, dtype: bool"
            ]
          },
          "metadata": {
            "tags": []
          },
          "execution_count": 143
        }
      ]
    },
    {
      "cell_type": "code",
      "metadata": {
        "colab": {
          "base_uri": "https://localhost:8080/"
        },
        "id": "IWmFBELDIAeK",
        "outputId": "d2c72e66-8841-4716-fa49-1bd296237c68"
      },
      "source": [
        "df['chance of admit'].gt(0.7).lt(0.9)"
      ],
      "execution_count": 144,
      "outputs": [
        {
          "output_type": "execute_result",
          "data": {
            "text/plain": [
              "Serial No.\n",
              "1      False\n",
              "2      False\n",
              "3      False\n",
              "4      False\n",
              "5       True\n",
              "       ...  \n",
              "396    False\n",
              "397    False\n",
              "398    False\n",
              "399     True\n",
              "400    False\n",
              "Name: chance of admit, Length: 400, dtype: bool"
            ]
          },
          "metadata": {
            "tags": []
          },
          "execution_count": 144
        }
      ]
    },
    {
      "cell_type": "code",
      "metadata": {
        "id": "OCmIfoXeIIQC"
      },
      "source": [
        ""
      ],
      "execution_count": null,
      "outputs": []
    }
  ]
}